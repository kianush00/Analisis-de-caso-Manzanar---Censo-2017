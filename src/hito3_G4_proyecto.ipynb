{
 "cells": [
  {
   "cell_type": "markdown",
   "id": "83ba3847-579b-43a9-87d0-085127cd98e4",
   "metadata": {
    "id": "83ba3847-579b-43a9-87d0-085127cd98e4"
   },
   "source": [
    "# Proyecto CENSO 2017\n",
    "\n",
    "ID-1\n",
    "\n",
    "Noviembre 2022"
   ]
  },
  {
   "cell_type": "markdown",
   "id": "3e3e10a2-3626-4701-a78d-32c614f9d6a8",
   "metadata": {
    "id": "3e3e10a2-3626-4701-a78d-32c614f9d6a8"
   },
   "source": [
    "# Declaración de compromiso ético\n",
    "\n",
    "\n"
   ]
  },
  {
   "cell_type": "markdown",
   "id": "bzPpcxzvuWAq",
   "metadata": {
    "id": "bzPpcxzvuWAq"
   },
   "source": [
    "Nosotros **Kianush Atighi-Moghaddam, Arturo Avendaño, Alonso Rojas, Diego Vera**, declaramos que realizamos de manera grupal los pasos de la presente actividad. También declaramos no incurrir en copia, ni compartir nuestras respuestas con otras personas ni con otros grupos. Por lo que, ratificamos que las respuestas son de nuestra propia confección y reflejan nuestro propio conocimiento. También, declaramos conocer y aceptar las reglas de este tipo de actividad, que han sido explicadas y aclaradas por el cuerpo académico de la asignatura."
   ]
  },
  {
   "cell_type": "markdown",
   "id": "ce26c1b7-3234-4d20-9541-833773357bbb",
   "metadata": {
    "id": "ce26c1b7-3234-4d20-9541-833773357bbb",
    "jp-MarkdownHeadingCollapsed": true,
    "tags": []
   },
   "source": [
    "# Introducción\n"
   ]
  },
  {
   "cell_type": "markdown",
   "id": "i3pZnD1HuZPl",
   "metadata": {
    "id": "i3pZnD1HuZPl"
   },
   "source": [
    "## Propósito del análisis\n",
    "\n",
    "El propósito de este desarrollo consiste en resolver la incertidumbre que se genera cada vez que se levantan los datos del CENSO, ya que, a veces, no es posible acceder a revisar el tipo de terreno o tipo de entidad, siendo estas estimadas o simplemente indeterminadas, ya sea por fallas de los censistas, falta de permisos o falta de disposición de los residentes. De esta manera, los datos para futuros estudios quedan inconclusos y/o con vacíos en la información, generando trabajo extra para los analistas de datos que deseen trabajar con esa información para realizar otros tipos de estudios.\n",
    "\n",
    "Para solucionar este problema, se plantean métodos para predecir la clase de la manzana, dígase el tipo de entidad (campo, pueblo, caserío, etc.) que esta representa, junto con su clasificación urbana o rural, con el fin de poder completar los datos para futuros análisis.\n",
    "\n",
    "A base de los datos obtenidos por el censo, entre los cuales se encuentra el acceso a agua potable y la materialidad de las casas dentro de la manzana, podría ser posible obtener tal información."
   ]
  },
  {
   "cell_type": "markdown",
   "id": "Ck74fRefuZvu",
   "metadata": {
    "id": "Ck74fRefuZvu"
   },
   "source": [
    "## Cambio de enfoque\n",
    "\n",
    "Tomando en cuenta la retroalimentación de los avances anteriores, se decidió abandonar la idea de predecir algún tipo de indicador de pobreza con los datos del censo. En vez de eso, se tomó una alternativa más realista, la cual consiste en responder preguntas relacionadas con la materialidad de las manzanas y la categorización de clases indeterminadas a base de atributos de materialidad, agua y otros sobre los que se realizarán pruebas para determinar cuáles son los más apropiados para realizar predicciones y responder a las interrogantes."
   ]
  },
  {
   "cell_type": "markdown",
   "id": "XxIIR7ijsYTp",
   "metadata": {
    "id": "XxIIR7ijsYTp"
   },
   "source": [
    "# Exploración de los datos\n",
    "\n"
   ]
  },
  {
   "cell_type": "markdown",
   "id": "BnAqNpvbupen",
   "metadata": {
    "id": "BnAqNpvbupen"
   },
   "source": [
    "Dentro de esta fase se realizará una exploración de los datos ya avanzados de los hitos anteriores, los cuales ya se encuentran en un estado donde se realizó la limpieza, junto con un cambio de nombre de las variables para una mejora en la comprensión humana. En cuanto a los cambios para el trabajo dentro del último hito, se encuentra la eliminación de los datos que no son relevantes para la investigación.\n",
    "\n",
    "Se contarán con 180 mil datos totales que corresponden al estudio, junto con 22 mil datos clasificados que serán divididos entre training y testing. Con ello se buscan las mejores variables para obtener precisión en la determinación de la clase."
   ]
  },
  {
   "cell_type": "markdown",
   "id": "faf785df",
   "metadata": {
    "id": "faf785df"
   },
   "source": [
    "### Preparación del dataset\n"
   ]
  },
  {
   "cell_type": "markdown",
   "id": "W1qcCOZzvCGF",
   "metadata": {
    "id": "W1qcCOZzvCGF"
   },
   "source": [
    "Primero se decidió importar el dataset generado del primer hito en una etapa temprana, ya que las columnas que son útiles ahora son distintas, debido a que en esta nueva instancia el dataset posee mayor cantidad de datos."
   ]
  },
  {
   "cell_type": "code",
   "execution_count": 1,
   "id": "82090ab9",
   "metadata": {
    "id": "82090ab9"
   },
   "outputs": [],
   "source": [
    "# Se realiza la inclusión de la librerias a utilizar.\n",
    "import pandas as pd\n",
    "import numpy as np\n",
    "from sklearn import preprocessing\n",
    "# Se Cargan los datos del dataset desde un repositorio en Github\n",
    "Censo_Filtrado = pd.read_csv('https://raw.githubusercontent.com/DiegoVeraSuazo/IngenieriaDeDatos_G4/main/resultado_hito1.csv') "
   ]
  },
  {
   "cell_type": "markdown",
   "id": "24b0a5a6-ee74-4611-b13e-c676cb5f9d19",
   "metadata": {
    "id": "24b0a5a6-ee74-4611-b13e-c676cb5f9d19"
   },
   "source": [
    "### Quitar columnas\n",
    "\n"
   ]
  },
  {
   "cell_type": "markdown",
   "id": "HguLSSywvE_Q",
   "metadata": {
    "id": "HguLSSywvE_Q"
   },
   "source": [
    "Para el presente análisis se quitarán algunas columnas que no son relevantes, esto incluye mayoritariamente datos demográficos relacionados a las proporciones de edad y género por manzana, junto con datos geográficos redundantes."
   ]
  },
  {
   "cell_type": "code",
   "execution_count": 2,
   "id": "e32daf5c",
   "metadata": {
    "id": "e32daf5c"
   },
   "outputs": [],
   "source": [
    "# Se utiliza el método drop de la libreria pandas, para remover las columnas que no se van a utilizar\n",
    "Censo_Filtrado = Censo_Filtrado.drop([\"HOMBRES\", \"MUJERES\", \"CANT_HOG\", \"EDAD_0A5\", \"EDAD_6A14\", \"EDAD_15A64\", \"EDAD_65YMAS\",\n",
    "                   \"INMIGRANTES\", \"PUEBLO\", \"NOM_LOCALIDAD\", \"NOM_ENTIDAD\",\n",
    "                   \"NOM_REGION_15R\", \"NOM_COMUNA_15R\", \"NOM_PROVINCIA_15R\", \"NOM_COMUNA\", \"NOM_PROVINCIA\"], axis=1)"
   ]
  },
  {
   "cell_type": "markdown",
   "id": "q3vYSlsjuyqG",
   "metadata": {
    "id": "q3vYSlsjuyqG"
   },
   "source": [
    "### Descripción de las columnas\n",
    "\n"
   ]
  },
  {
   "cell_type": "markdown",
   "id": "dI0V-gksvIYt",
   "metadata": {
    "id": "dI0V-gksvIYt"
   },
   "source": [
    "Las columnas del dataset que se utilizarán para el presente análisis, ordenadas de principio a fin, son las siguientes:\n",
    "- **PERSONAS**: Número total de personas de la manzana\n",
    "- **VIVIENDA_PARTICULAR**: Total de viviendas particulares.\n",
    "- **VIVIENDA_COLECTIVA**: Total de viviendas colectivas.\n",
    "- **VIVIENDA_PARTICULAR_OCUPADA**: Total de viviendas particulares ocupadas con moradores presentes.\n",
    "- **TOTAL_VIV**: Total de viviendas de la manzana.\n",
    "- **TIPO_VIV_CASA**: Tipo de vivienda particular “Casa”.\n",
    "- **TIPO_VIV_DPTO**: Tipo de vivienda particular “Departamento en edificio”.\n",
    "- **TIPO_VIV_TRADICIONAL**: Tipo de vivienda particular “Vivienda tradicional indígena (ruka, pae pae u otras)”.\n",
    "- **TIPO_VIV_CONVENTILLO**: Tipo de vivienda particular “Pieza en casa antigua o en conventillo”.\n",
    "- **TIPO_VIV_MEDIAGUA**: Tipo de vivienda particular “Mediagua, mejora, rancho o choza”.\n",
    "- **TIPO_VIV_MOVIL**: Tipo de vivienda particular “Móvil (carpa, casa rodante o similar)”.\n",
    "- **TIPO_VIV_OTRO**: Otro tipo de vivienda particular.\n",
    "- **MATERIAL_MURO_EXT_HORMIGON**: Materialidad en las paredes exteriores con hormigón armado.\n",
    "- **MATERIAL_MURO_EXT_ALBANILERIA**: Materialidad en las paredes exteriores con albañilería: bloque de cemento, piedra o ladrillo.\n",
    "- **MATERIAL_MURO_EXT_TABIQUE_FORRADO**: Materialidad en las paredes exteriores con tabique forrado por ambas caras (madera o acero).\n",
    "- **MATERIAL_MURO_EXT_TABIQUE_SIN_FORRO**: Materialidad en las paredes exteriores con tabique sin forro interior (madera u otro).\n",
    "- **MATERIAL_MURO_EXT_ADOBE_BARRO_QUINCHA**: Materialidad en las paredes exteriores de adobe, barro, quincha, pirca u otro artesanal tradicional.\n",
    "- **MATERIAL_MURO_EXT_PRECARIOS**: Materialidad en las paredes exteriores con materiales precarios (lata, cartón, plástico, etc.).\n",
    "- **MAT_CUB_TECHO_TEJAS_METALICAS_CEMENT_MADERA_ASFALTICA**: Materialidad en la cubierta del techo con tejas o tejuelas de arcilla, metálicas, de cemento, de madera, asfálticas o plásticas.\n",
    "- **MAT_CUB_TECHO_LOSA_HORMIGON**: Materialidad en la cubierta del techo de losa hormigón.\n",
    "- **MAT_CUB_TECHO_PLANCHAZINC_COBRE_FIBROCEMENTO**: Materialidad en la cubierta del techo de planchas metálicas de zinc, cobre, etc. o fibrocemento (tipo pizarreño).\n",
    "- **MAT_CUB_TECHO_FONOLITA**: Materialidad en la cubierta del techo de fonolita o plancha de fieltro embreado.\n",
    "- **MAT_CUB_TECHO_PAJA_COIRON_TOTORA_CAÑA**: Materialidad en la cubierta del techo de paja, coirón, totora o caña.\n",
    "- **MAT_CUB_TECHO_MATERIALES_PRECARIO**: Materialidad en la cubierta del techo de materiales precarios (lata, cartón, plástico, etc.)\n",
    "- **MAT_CUB_TECHO_SIN_CUBIERTA_SOLIDA**: Materialidad en la cubierta del techo sin cubierta sólida del techo.\n",
    "- **MAT_PISO_PAQUET_PISOFLOTANTE_CERAMICO**: Materialidad en el piso de parquet, piso flotante, cerámico, madera, alfombra, flexit, cubrepiso u otro similar; sobre radier o vigas de madera.\n",
    "- **MAT_PISO_RADIER_SIN_REVESTIMIENTO**: Materialidad en el piso de radier sin revestimiento.\n",
    "- **MAT_PISO_BALDOSA_CEMENTO**: Materialidad en el piso de baldosa de cemento.\n",
    "- **MAT_PISO_CAPACEMENTO_SOBRE_TIERRA**: Materialidad en el piso de capa de cemento sobre tierra.\n",
    "- **MAT_PISO_TIERRA**: Materialidad en el piso de tierra.\n",
    "- **MAT_ACEPTABLE**: Total de viviendas con materialidad aceptable.\n",
    "- **MAT_RECUPERABLE**: Total de viviendas con materialidad recuperable.\n",
    "- **MATIRREC**: Total de viviendas con materialidad irrecuperable.\n",
    "- **ORIGEN_AGUA_RED_PUBLICA**: Cantidad de viviendas que declaran que el origen del agua es de red pública.\n",
    "- **ORIGEN_AGUA_POZO**: Cantidad de viviendas que declaran que el origen del agua es de pozo o noria.\n",
    "- **ORIGEN_AGUA_CAMION_ALJIBE**: Cantidad de viviendas que declaran que el origen del agua es de camión aljibe.\n",
    "- **ORIGEN_AGUA_RIO_VERTIENTE_ESTERO_CANAL_LAGO**: Cantidad de viviendas que declaran que el origen del agua es de río, vertiente, estero, canal, lago, etc.\n",
    "- **NOM_CAT_ENT**: Categoría de la manzana. (Aldea, Asentamiento Minero, Asentamiento Pesquero, Campamento, Caserío, Comunidad Indígena, Fundo-Estancia-Hacienda, Parcela de Agrado, Parcela-Hijuela, Veranada-Majada-Aguada, Otros)\n",
    "- **NOM_AREA**: Área de tipo urbana o rural.\n",
    "- **NOM_REGION**: Nombre de la región donde se ubica la manzana."
   ]
  },
  {
   "cell_type": "markdown",
   "id": "47135e5f",
   "metadata": {
    "id": "47135e5f"
   },
   "source": [
    "### Índice de materialidad de la manzana\n"
   ]
  },
  {
   "cell_type": "markdown",
   "id": "bNWoLgxuvPc1",
   "metadata": {
    "id": "bNWoLgxuvPc1"
   },
   "source": [
    "Se genera un nuevo dato que corresponde al índice de materialidad de la manzana, el cual entrega una idea general de la calidad promedio de los materiales de la manzana, teniendo en cuenta que las viviendas se pueden clasificar por materialidad aceptable, recuperable e irrecuperable. Para calcular este índice se implementa la siguiente fórmula:\n"
   ]
  },
  {
   "cell_type": "markdown",
   "id": "xI4UmQNO5q-W",
   "metadata": {
    "id": "xI4UmQNO5q-W"
   },
   "source": [
    "$ indice.mat = \\frac{(MAT.ACEPTABLE  +  MAT.RECUPERABLE  +  MATIRREC)}{(MAT.ACEPTABLE + 2 * MAT.RECUPERABLE + 4 * MATIRREC)} $"
   ]
  },
  {
   "cell_type": "markdown",
   "id": "HfxQFtxa6l71",
   "metadata": {
    "id": "HfxQFtxa6l71"
   },
   "source": [
    "Este índice se encuentra dentro del rango [0.25, 1], es decir, a mayor valor, la manzana posee una mejor calidad de materialidad en promedio y viceversa."
   ]
  },
  {
   "cell_type": "code",
   "execution_count": 3,
   "id": "85f282a4",
   "metadata": {
    "id": "85f282a4"
   },
   "outputs": [],
   "source": [
    "# Se realiza una copia de las Columnas MAT_ACEPTABLE, MAT_RECUPERABLE y MATIRREC para la realizar el calculo del Indice de Materialidad\n",
    "materialidad_Censo_Filtrado = Censo_Filtrado.iloc[:,[30,31,32]].copy()\n",
    "\n",
    "#Formula de materialidad\n",
    "indice_mat = (materialidad_Censo_Filtrado.iloc[:,0] + materialidad_Censo_Filtrado.iloc[:,1] + materialidad_Censo_Filtrado.iloc[:,2]) / (materialidad_Censo_Filtrado.iloc[:,0] + 2 * materialidad_Censo_Filtrado.iloc[:,1] + 4 * materialidad_Censo_Filtrado.iloc[:,2])\n",
    "materialidad_Censo_Filtrado['Indice_mat'] = indice_mat\n",
    "\n",
    "#Inclusión del Indice de Materialidad en el dataset original bajo la columna Indice_mat\n",
    "Censo_Filtrado['Indice_mat'] = indice_mat\n",
    "\n",
    "#Rellenado de celda con valor NaN a 0\n",
    "Censo_Filtrado = Censo_Filtrado.fillna(0)\n",
    "Censo_Filtrado = Censo_Filtrado.replace(np.nan, 0)"
   ]
  },
  {
   "cell_type": "markdown",
   "id": "c93a8e99",
   "metadata": {
    "id": "c93a8e99"
   },
   "source": [
    "### Normalización de variables para mejorar la precisión del modelo antes mencionado.\n"
   ]
  },
  {
   "cell_type": "markdown",
   "id": "XtOrafjUvTab",
   "metadata": {
    "id": "XtOrafjUvTab"
   },
   "source": [
    "Anteriormente se contaba con los valores sin normalizar, lo cual no presenta utilidad actualmente, pues se requiere analizar las manzanas independientemente de su cantidad de viviendas. Junto con ello, tener los datos normalizados permitirá sumar los datos sin que la densidad de casas por manzana afecte, a modo de ejemplo, no ocurrirá que la calidad de los materiales aparecerá mejor en Santiago solo porque Santiago tiene más casas."
   ]
  },
  {
   "cell_type": "code",
   "execution_count": 4,
   "id": "62965271-a545-40d7-bd16-d2f479f0af76",
   "metadata": {
    "id": "62965271-a545-40d7-bd16-d2f479f0af76"
   },
   "outputs": [],
   "source": [
    "# Normalización de los Datos Relacionados con las viviendas\n",
    "Censo_Filtrado.iloc[:,1:4] = Censo_Filtrado.iloc[:,1:4].div(Censo_Filtrado.iloc[:,4], axis='index')\n",
    "Censo_Filtrado.iloc[:,5:33] = Censo_Filtrado.iloc[:,5:33].div(Censo_Filtrado.iloc[:,4], axis='index')\n",
    "\n",
    "# Normalización relacionada con el agua\n",
    "denominador = Censo_Filtrado.iloc[:,33:37].sum(axis=1)\n",
    "Censo_Filtrado.iloc[:,33:37] = Censo_Filtrado.iloc[:,33:37].div(denominador, axis='index')\n",
    "\n",
    "#Rellenado de celda con valor NaN a 0\n",
    "Censo_Filtrado = Censo_Filtrado.fillna(0)\n",
    "Censo_Filtrado = Censo_Filtrado.replace(np.nan, 0)"
   ]
  },
  {
   "cell_type": "markdown",
   "id": "43194fbe",
   "metadata": {
    "id": "43194fbe"
   },
   "source": [
    "### Verificación de la normalización\n",
    "\n",
    "\n"
   ]
  },
  {
   "cell_type": "markdown",
   "id": "mMlUa9TmvXM-",
   "metadata": {
    "id": "mMlUa9TmvXM-"
   },
   "source": [
    "Se utiliza el método describe() para verificar que la normalización fue usando el máximo indicado y ninguno de los valores normalizados supere el valor 1.0"
   ]
  },
  {
   "cell_type": "code",
   "execution_count": 5,
   "id": "1aAcNjfdA0c9",
   "metadata": {
    "colab": {
     "base_uri": "https://localhost:8080/",
     "height": 394
    },
    "id": "1aAcNjfdA0c9",
    "outputId": "a456bf7d-e632-4115-df69-c4e9dc4e8134"
   },
   "outputs": [
    {
     "data": {
      "text/html": [
       "<div>\n",
       "<style scoped>\n",
       "    .dataframe tbody tr th:only-of-type {\n",
       "        vertical-align: middle;\n",
       "    }\n",
       "\n",
       "    .dataframe tbody tr th {\n",
       "        vertical-align: top;\n",
       "    }\n",
       "\n",
       "    .dataframe thead th {\n",
       "        text-align: right;\n",
       "    }\n",
       "</style>\n",
       "<table border=\"1\" class=\"dataframe\">\n",
       "  <thead>\n",
       "    <tr style=\"text-align: right;\">\n",
       "      <th></th>\n",
       "      <th>PERSONAS</th>\n",
       "      <th>VIVIENDA_PARTICULAR</th>\n",
       "      <th>VIVIENDA_COLECTIVA</th>\n",
       "      <th>VIVIENDA_PARTICULAR_OCUPADA</th>\n",
       "      <th>TOTAL_VIV</th>\n",
       "      <th>TIPO_VIV_CASA</th>\n",
       "      <th>TIPO_VIV_DPTO</th>\n",
       "      <th>TIPO_VIV_TRADICIONAL</th>\n",
       "      <th>TIPO_VIV_CONVENTILLO</th>\n",
       "      <th>TIPO_VIV_MEDIAGUA</th>\n",
       "      <th>...</th>\n",
       "      <th>MAT_PISO_CAPACEMENTO_SOBRE_TIERRA</th>\n",
       "      <th>MAT_PISO_TIERRA</th>\n",
       "      <th>MAT_ACEPTABLE</th>\n",
       "      <th>MAT_RECUPERABLE</th>\n",
       "      <th>MATIRREC</th>\n",
       "      <th>ORIGEN_AGUA_RED_PUBLICA</th>\n",
       "      <th>ORIGEN_AGUA_POZO</th>\n",
       "      <th>ORIGEN_AGUA_CAMION_ALJIBE</th>\n",
       "      <th>ORIGEN_AGUA_RIO_VERTIENTE_ESTERO_CANAL_LAGO</th>\n",
       "      <th>Indice_mat</th>\n",
       "    </tr>\n",
       "  </thead>\n",
       "  <tbody>\n",
       "    <tr>\n",
       "      <th>count</th>\n",
       "      <td>180499.000000</td>\n",
       "      <td>180499.000000</td>\n",
       "      <td>180499.000000</td>\n",
       "      <td>180499.000000</td>\n",
       "      <td>180499.000000</td>\n",
       "      <td>180499.000000</td>\n",
       "      <td>180499.000000</td>\n",
       "      <td>180499.000000</td>\n",
       "      <td>180499.000000</td>\n",
       "      <td>180499.000000</td>\n",
       "      <td>...</td>\n",
       "      <td>180499.000000</td>\n",
       "      <td>180499.000000</td>\n",
       "      <td>180499.000000</td>\n",
       "      <td>180499.000000</td>\n",
       "      <td>180499.000000</td>\n",
       "      <td>180499.000000</td>\n",
       "      <td>180499.000000</td>\n",
       "      <td>180499.000000</td>\n",
       "      <td>180499.000000</td>\n",
       "      <td>180499.000000</td>\n",
       "    </tr>\n",
       "    <tr>\n",
       "      <th>mean</th>\n",
       "      <td>97.363437</td>\n",
       "      <td>0.993575</td>\n",
       "      <td>0.006414</td>\n",
       "      <td>0.841845</td>\n",
       "      <td>36.007706</td>\n",
       "      <td>0.918312</td>\n",
       "      <td>0.040361</td>\n",
       "      <td>0.001219</td>\n",
       "      <td>0.006834</td>\n",
       "      <td>0.018586</td>\n",
       "      <td>...</td>\n",
       "      <td>0.016375</td>\n",
       "      <td>0.004615</td>\n",
       "      <td>0.667500</td>\n",
       "      <td>0.148452</td>\n",
       "      <td>0.016005</td>\n",
       "      <td>0.856893</td>\n",
       "      <td>0.059145</td>\n",
       "      <td>0.020003</td>\n",
       "      <td>0.027055</td>\n",
       "      <td>0.808500</td>\n",
       "    </tr>\n",
       "    <tr>\n",
       "      <th>std</th>\n",
       "      <td>149.647870</td>\n",
       "      <td>0.063840</td>\n",
       "      <td>0.063754</td>\n",
       "      <td>0.220091</td>\n",
       "      <td>61.678846</td>\n",
       "      <td>0.212909</td>\n",
       "      <td>0.176561</td>\n",
       "      <td>0.030199</td>\n",
       "      <td>0.037512</td>\n",
       "      <td>0.082779</td>\n",
       "      <td>...</td>\n",
       "      <td>0.047598</td>\n",
       "      <td>0.032893</td>\n",
       "      <td>0.263459</td>\n",
       "      <td>0.170003</td>\n",
       "      <td>0.059636</td>\n",
       "      <td>0.329677</td>\n",
       "      <td>0.196568</td>\n",
       "      <td>0.107223</td>\n",
       "      <td>0.133213</td>\n",
       "      <td>0.217958</td>\n",
       "    </tr>\n",
       "    <tr>\n",
       "      <th>min</th>\n",
       "      <td>0.000000</td>\n",
       "      <td>0.000000</td>\n",
       "      <td>0.000000</td>\n",
       "      <td>0.000000</td>\n",
       "      <td>0.000000</td>\n",
       "      <td>0.000000</td>\n",
       "      <td>0.000000</td>\n",
       "      <td>0.000000</td>\n",
       "      <td>0.000000</td>\n",
       "      <td>0.000000</td>\n",
       "      <td>...</td>\n",
       "      <td>0.000000</td>\n",
       "      <td>0.000000</td>\n",
       "      <td>0.000000</td>\n",
       "      <td>0.000000</td>\n",
       "      <td>0.000000</td>\n",
       "      <td>0.000000</td>\n",
       "      <td>0.000000</td>\n",
       "      <td>0.000000</td>\n",
       "      <td>0.000000</td>\n",
       "      <td>0.000000</td>\n",
       "    </tr>\n",
       "    <tr>\n",
       "      <th>25%</th>\n",
       "      <td>35.000000</td>\n",
       "      <td>1.000000</td>\n",
       "      <td>0.000000</td>\n",
       "      <td>0.811321</td>\n",
       "      <td>14.000000</td>\n",
       "      <td>0.952381</td>\n",
       "      <td>0.000000</td>\n",
       "      <td>0.000000</td>\n",
       "      <td>0.000000</td>\n",
       "      <td>0.000000</td>\n",
       "      <td>...</td>\n",
       "      <td>0.000000</td>\n",
       "      <td>0.000000</td>\n",
       "      <td>0.521739</td>\n",
       "      <td>0.000000</td>\n",
       "      <td>0.000000</td>\n",
       "      <td>1.000000</td>\n",
       "      <td>0.000000</td>\n",
       "      <td>0.000000</td>\n",
       "      <td>0.000000</td>\n",
       "      <td>0.720000</td>\n",
       "    </tr>\n",
       "    <tr>\n",
       "      <th>50%</th>\n",
       "      <td>63.000000</td>\n",
       "      <td>1.000000</td>\n",
       "      <td>0.000000</td>\n",
       "      <td>0.913043</td>\n",
       "      <td>22.000000</td>\n",
       "      <td>1.000000</td>\n",
       "      <td>0.000000</td>\n",
       "      <td>0.000000</td>\n",
       "      <td>0.000000</td>\n",
       "      <td>0.000000</td>\n",
       "      <td>...</td>\n",
       "      <td>0.000000</td>\n",
       "      <td>0.000000</td>\n",
       "      <td>0.733333</td>\n",
       "      <td>0.096774</td>\n",
       "      <td>0.000000</td>\n",
       "      <td>1.000000</td>\n",
       "      <td>0.000000</td>\n",
       "      <td>0.000000</td>\n",
       "      <td>0.000000</td>\n",
       "      <td>0.857143</td>\n",
       "    </tr>\n",
       "    <tr>\n",
       "      <th>75%</th>\n",
       "      <td>105.000000</td>\n",
       "      <td>1.000000</td>\n",
       "      <td>0.000000</td>\n",
       "      <td>0.976190</td>\n",
       "      <td>35.000000</td>\n",
       "      <td>1.000000</td>\n",
       "      <td>0.000000</td>\n",
       "      <td>0.000000</td>\n",
       "      <td>0.000000</td>\n",
       "      <td>0.000000</td>\n",
       "      <td>...</td>\n",
       "      <td>0.000000</td>\n",
       "      <td>0.000000</td>\n",
       "      <td>0.875000</td>\n",
       "      <td>0.230769</td>\n",
       "      <td>0.000000</td>\n",
       "      <td>1.000000</td>\n",
       "      <td>0.000000</td>\n",
       "      <td>0.000000</td>\n",
       "      <td>0.000000</td>\n",
       "      <td>0.989583</td>\n",
       "    </tr>\n",
       "    <tr>\n",
       "      <th>max</th>\n",
       "      <td>9197.000000</td>\n",
       "      <td>1.000000</td>\n",
       "      <td>1.000000</td>\n",
       "      <td>1.000000</td>\n",
       "      <td>2575.000000</td>\n",
       "      <td>1.000000</td>\n",
       "      <td>1.000000</td>\n",
       "      <td>1.000000</td>\n",
       "      <td>1.000000</td>\n",
       "      <td>1.000000</td>\n",
       "      <td>...</td>\n",
       "      <td>1.000000</td>\n",
       "      <td>1.000000</td>\n",
       "      <td>1.000000</td>\n",
       "      <td>1.000000</td>\n",
       "      <td>1.000000</td>\n",
       "      <td>1.000000</td>\n",
       "      <td>1.000000</td>\n",
       "      <td>1.000000</td>\n",
       "      <td>1.000000</td>\n",
       "      <td>1.000000</td>\n",
       "    </tr>\n",
       "  </tbody>\n",
       "</table>\n",
       "<p>8 rows × 38 columns</p>\n",
       "</div>"
      ],
      "text/plain": [
       "            PERSONAS  VIVIENDA_PARTICULAR  VIVIENDA_COLECTIVA  \\\n",
       "count  180499.000000        180499.000000       180499.000000   \n",
       "mean       97.363437             0.993575            0.006414   \n",
       "std       149.647870             0.063840            0.063754   \n",
       "min         0.000000             0.000000            0.000000   \n",
       "25%        35.000000             1.000000            0.000000   \n",
       "50%        63.000000             1.000000            0.000000   \n",
       "75%       105.000000             1.000000            0.000000   \n",
       "max      9197.000000             1.000000            1.000000   \n",
       "\n",
       "       VIVIENDA_PARTICULAR_OCUPADA      TOTAL_VIV  TIPO_VIV_CASA  \\\n",
       "count                180499.000000  180499.000000  180499.000000   \n",
       "mean                      0.841845      36.007706       0.918312   \n",
       "std                       0.220091      61.678846       0.212909   \n",
       "min                       0.000000       0.000000       0.000000   \n",
       "25%                       0.811321      14.000000       0.952381   \n",
       "50%                       0.913043      22.000000       1.000000   \n",
       "75%                       0.976190      35.000000       1.000000   \n",
       "max                       1.000000    2575.000000       1.000000   \n",
       "\n",
       "       TIPO_VIV_DPTO  TIPO_VIV_TRADICIONAL  TIPO_VIV_CONVENTILLO  \\\n",
       "count  180499.000000         180499.000000         180499.000000   \n",
       "mean        0.040361              0.001219              0.006834   \n",
       "std         0.176561              0.030199              0.037512   \n",
       "min         0.000000              0.000000              0.000000   \n",
       "25%         0.000000              0.000000              0.000000   \n",
       "50%         0.000000              0.000000              0.000000   \n",
       "75%         0.000000              0.000000              0.000000   \n",
       "max         1.000000              1.000000              1.000000   \n",
       "\n",
       "       TIPO_VIV_MEDIAGUA  ...  MAT_PISO_CAPACEMENTO_SOBRE_TIERRA  \\\n",
       "count      180499.000000  ...                      180499.000000   \n",
       "mean            0.018586  ...                           0.016375   \n",
       "std             0.082779  ...                           0.047598   \n",
       "min             0.000000  ...                           0.000000   \n",
       "25%             0.000000  ...                           0.000000   \n",
       "50%             0.000000  ...                           0.000000   \n",
       "75%             0.000000  ...                           0.000000   \n",
       "max             1.000000  ...                           1.000000   \n",
       "\n",
       "       MAT_PISO_TIERRA  MAT_ACEPTABLE  MAT_RECUPERABLE       MATIRREC  \\\n",
       "count    180499.000000  180499.000000    180499.000000  180499.000000   \n",
       "mean          0.004615       0.667500         0.148452       0.016005   \n",
       "std           0.032893       0.263459         0.170003       0.059636   \n",
       "min           0.000000       0.000000         0.000000       0.000000   \n",
       "25%           0.000000       0.521739         0.000000       0.000000   \n",
       "50%           0.000000       0.733333         0.096774       0.000000   \n",
       "75%           0.000000       0.875000         0.230769       0.000000   \n",
       "max           1.000000       1.000000         1.000000       1.000000   \n",
       "\n",
       "       ORIGEN_AGUA_RED_PUBLICA  ORIGEN_AGUA_POZO  ORIGEN_AGUA_CAMION_ALJIBE  \\\n",
       "count            180499.000000     180499.000000              180499.000000   \n",
       "mean                  0.856893          0.059145                   0.020003   \n",
       "std                   0.329677          0.196568                   0.107223   \n",
       "min                   0.000000          0.000000                   0.000000   \n",
       "25%                   1.000000          0.000000                   0.000000   \n",
       "50%                   1.000000          0.000000                   0.000000   \n",
       "75%                   1.000000          0.000000                   0.000000   \n",
       "max                   1.000000          1.000000                   1.000000   \n",
       "\n",
       "       ORIGEN_AGUA_RIO_VERTIENTE_ESTERO_CANAL_LAGO     Indice_mat  \n",
       "count                                180499.000000  180499.000000  \n",
       "mean                                      0.027055       0.808500  \n",
       "std                                       0.133213       0.217958  \n",
       "min                                       0.000000       0.000000  \n",
       "25%                                       0.000000       0.720000  \n",
       "50%                                       0.000000       0.857143  \n",
       "75%                                       0.000000       0.989583  \n",
       "max                                       1.000000       1.000000  \n",
       "\n",
       "[8 rows x 38 columns]"
      ]
     },
     "execution_count": 5,
     "metadata": {},
     "output_type": "execute_result"
    }
   ],
   "source": [
    "# Uso del método describe de la libreria de pandas para observar el estado de los valores normalizados\n",
    "Censo_Filtrado.describe()"
   ]
  },
  {
   "cell_type": "markdown",
   "id": "zTgMLs5CAFAW",
   "metadata": {
    "id": "zTgMLs5CAFAW"
   },
   "source": [
    "### Visualización de datos\n",
    "\n"
   ]
  },
  {
   "cell_type": "markdown",
   "id": "LOFxH13hvjHk",
   "metadata": {
    "id": "LOFxH13hvjHk"
   },
   "source": [
    "Para poder visualizar una matriz de correlación representativa, primero se realizaron varias matrices de correlación pequeñas utilizando diferentes subconjuntos de atributos, debido a que la cantidad de atributos del dataset es muy alta. A partir de esto, se buscan los atributos con mayor correlación, los cuales deberían ser descartados para los modelos de predicción al ser redundantes para tal uso.\n",
    "\n",
    "A continuación se muestra la matriz representativa de la mayoría de matrices que fueron probadas. En resumen, los tipos de materiales de las viviendas están fuertemente relacionados con su recuperabilidad, además los tipos de vivienda no poseen relación con los demás tipos de atributos. Por lo tanto, se deberían descartar los atributos que hablan sobre el tipo de material."
   ]
  },
  {
   "cell_type": "code",
   "execution_count": 6,
   "id": "c2ac0cfa-0bc3-44ab-b940-3c96f393a406",
   "metadata": {
    "colab": {
     "base_uri": "https://localhost:8080/",
     "height": 478
    },
    "id": "c2ac0cfa-0bc3-44ab-b940-3c96f393a406",
    "outputId": "5d78e475-88ee-4b17-90d5-a5a40172ca53"
   },
   "outputs": [
    {
     "data": {
      "image/png": "[encoded data removed]",
      "text/plain": [
       "<Figure size 432x288 with 2 Axes>"
      ]
     },
     "metadata": {
      "needs_background": "light"
     },
     "output_type": "display_data"
    }
   ],
   "source": [
    "#Implementación de las librerias a utilizar para el realizado de una matriz de correlación\n",
    "import seaborn as sn\n",
    "import matplotlib.pyplot as plt\n",
    "\n",
    "# Se escogen las columnas que serán parte del proceso de correlación (MAT_RECUPERABLE, \n",
    "#  MATIRREC, TIPO_VIV_CONVENTILLO y MATERIAL_MURO_EXT_TABIQUE_SIN_FORRO)\n",
    "corrMatrix_data = Censo_Filtrado.iloc[:,[31,32,8,15]]\n",
    "\n",
    "# Se realiza el cálculo de correlación entre los valores dados para luego ser visualizados a través del uso de un mapa de calor.\n",
    "corrMatrix = corrMatrix_data.corr()\n",
    "sn.heatmap(corrMatrix, annot=True)\n",
    "plt.show()"
   ]
  },
  {
   "cell_type": "markdown",
   "id": "UzfxxNk0sFn4",
   "metadata": {
    "id": "UzfxxNk0sFn4"
   },
   "source": [
    "### Gráfico de BoxPlot sobre índice de materialidad \n",
    "\n"
   ]
  },
  {
   "cell_type": "markdown",
   "id": "y9CgW_h-vp3K",
   "metadata": {
    "id": "y9CgW_h-vp3K"
   },
   "source": [
    "Se utiliza un gráfico de boxplot para visualizar de mejor forma y revisar la dispersión de los datos con respecto al índice de materialidad. Se observa que el promedio es cercano al valor 0.85, además este valor fluctúa aproximadamente entre 0.7 y 0.98. Por lo tanto, este índice refleja de forma más simple y directa el nivel de calidad de materialidad por manzana, por lo que es viable reemplazarlo por los 3 atributos de recuperabilidad de viviendas en la fase experimental."
   ]
  },
  {
   "cell_type": "code",
   "execution_count": 7,
   "id": "O2B-mydGelGI",
   "metadata": {
    "colab": {
     "base_uri": "https://localhost:8080/",
     "height": 284
    },
    "id": "O2B-mydGelGI",
    "outputId": "d3373d75-521c-4d1e-88fa-8ab20131dca6"
   },
   "outputs": [
    {
     "data": {
      "text/plain": [
       "<AxesSubplot:>"
      ]
     },
     "execution_count": 7,
     "metadata": {},
     "output_type": "execute_result"
    },
    {
     "data": {
      "image/png": "[encoded data removed]",
      "text/plain": [
       "<Figure size 432x288 with 1 Axes>"
      ]
     },
     "metadata": {
      "needs_background": "light"
     },
     "output_type": "display_data"
    }
   ],
   "source": [
    "# Visualización del indice de materialidad a traves de un boxplot realizado con el plot de la libreria de pandas\n",
    "Censo_Filtrado[\"Indice_mat\"].plot(kind='box')"
   ]
  },
  {
   "cell_type": "markdown",
   "id": "_9TMRNGmBEXo",
   "metadata": {
    "id": "_9TMRNGmBEXo"
   },
   "source": [
    "### Distribución de viviendas\n"
   ]
  },
  {
   "cell_type": "markdown",
   "id": "b8_2f7LtvuzU",
   "metadata": {
    "id": "b8_2f7LtvuzU"
   },
   "source": [
    "Un atributo que podría ayudar a predecir la categoría de una manzana es su porcentaje de viviendas que son colectivas y las que no los son. Sin embargo, se puede observar que el número de viviendas colectivas registradas son muy pequeñas en comparación, por lo que habría muy pocos datos para que un clasificador usara este atributo como diferenciador. Por ello, se sugiere descartar tal atributo."
   ]
  },
  {
   "cell_type": "code",
   "execution_count": 8,
   "id": "def60c10-6e67-43c8-9dc2-21c98fdc875c",
   "metadata": {
    "colab": {
     "base_uri": "https://localhost:8080/",
     "height": 749
    },
    "id": "def60c10-6e67-43c8-9dc2-21c98fdc875c",
    "outputId": "6b647096-4905-4299-9f83-30916761500b"
   },
   "outputs": [
    {
     "data": {
      "image/png": "[encoded data removed]",
      "text/plain": [
       "<Figure size 504x504 with 1 Axes>"
      ]
     },
     "metadata": {
      "needs_background": "light"
     },
     "output_type": "display_data"
    }
   ],
   "source": [
    "import matplotlib.pyplot as plt\n",
    "\n",
    "# Se realiza una suma de todos los valores de la columnas con el proposito de observar las diferencias de los totales de cada columnas\n",
    "Censo_Filtrado_totales_plot = pd.DataFrame(Censo_Filtrado.sum(), columns=['Cantidad'])\n",
    "Censo_Filtrado_totales_plot['Tipo'] = Censo_Filtrado.columns.tolist()\n",
    "\n",
    "# Se realiza la visualización de los tipo de viviendas totales contabilizados dentro del Censo con el uso del Plot p\n",
    "plt_censo_total_viv = Censo_Filtrado_totales_plot.iloc[1:4,:].plot(kind = \"bar\", color = 'red', figsize = (7,7))\n",
    "plt.show()"
   ]
  },
  {
   "cell_type": "markdown",
   "id": "PaQcFZblBm9A",
   "metadata": {
    "id": "PaQcFZblBm9A"
   },
   "source": [
    "### Tipos de vivienda\n"
   ]
  },
  {
   "cell_type": "markdown",
   "id": "5-YPpBsQvxWF",
   "metadata": {
    "id": "5-YPpBsQvxWF"
   },
   "source": [
    "Se estima que el tipo de vivienda podría ayudar a predecir la categoría de la manzana, esto tiene sentido si se observa que en un campo o un pueblo pequeño es improbable que hayan departamentos, es decir, hay tipos de vivienda que son más comunes en algunas categorías que en otras.\n",
    "\n",
    "Del gráfico de barras se observa que la gran mayoría de las viviendas en Chile corresponden a casas. Se cree que podrían existir casas en muchas categorías distintas, sin embargo la distribución de las demás categorías es más pareja y podrían usarse para predecir la categoría de la manzana, por lo tanto se considerarán en la fase experimental."
   ]
  },
  {
   "cell_type": "code",
   "execution_count": 9,
   "id": "887d0ca6-3a81-40b0-b068-83014fabda4a",
   "metadata": {
    "colab": {
     "base_uri": "https://localhost:8080/",
     "height": 863
    },
    "id": "887d0ca6-3a81-40b0-b068-83014fabda4a",
    "outputId": "b4137c8e-2e9d-46b5-aa65-7d6d0d721436"
   },
   "outputs": [
    {
     "data": {
      "image/png": "[encoded data removed]",
      "text/plain": [
       "<Figure size 2160x1080 with 1 Axes>"
      ]
     },
     "metadata": {
      "needs_background": "light"
     },
     "output_type": "display_data"
    }
   ],
   "source": [
    "# Se realiza una suma de todos los valores de las columnas con el propósito de observar las diferencias de los totales de cada columna\n",
    "Censo_Filtrado_totales_plot = pd.DataFrame(Censo_Filtrado.sum(), columns=['Cantidad'])\n",
    "Censo_Filtrado_totales_plot['Tipo'] = Censo_Filtrado.columns.tolist()\n",
    "\n",
    "# Se realiza la visualización de los tipos de viviendas totales contabilizados dentro del Censo con el uso del Plot propio de Pandas\n",
    "plt_censo_total_tipo_viv = Censo_Filtrado_totales_plot.iloc[5:12,:].plot.barh(y = \"Cantidad\", color='red', figsize=((30,15)))\n",
    "plt.show()"
   ]
  },
  {
   "cell_type": "markdown",
   "id": "lDWaeV_HDyVn",
   "metadata": {
    "id": "lDWaeV_HDyVn"
   },
   "source": [
    "### Recuperabilidad de los materiales\n"
   ]
  },
  {
   "cell_type": "markdown",
   "id": "OT9SO017v0sW",
   "metadata": {
    "id": "OT9SO017v0sW"
   },
   "source": [
    "A partir de las definiciones del manual del CENSO, se sabe que existe una posible relación entre la recuperabilidad de los materiales y la categoría de la manzana, además por definición, si una manzana contiene materiales de tierra, se estima que su condición de materialidad sea irrecuperable. Se estima que tener pisos de tierra podría implicar que la manzana pertenece a ciertas categorías y no a otras, a modo de ejemplo, es más probable que en una ciudad haya más pavimentación que en un campo y, por lo tanto, menos porcentaje de pisos de tierra.\n",
    "\n",
    "Del gráfico de barras se desprende que la mayoría de las manzanas cuentan con\n",
    "una materialidad aceptable, lo cual se corrobora con la distribución de los datos con respecto al índice de materialidad."
   ]
  },
  {
   "cell_type": "code",
   "execution_count": 10,
   "id": "0201ad85-6cf6-4d0d-b991-03f672fb4edf",
   "metadata": {
    "colab": {
     "base_uri": "https://localhost:8080/",
     "height": 320
    },
    "id": "0201ad85-6cf6-4d0d-b991-03f672fb4edf",
    "outputId": "18e8b8ae-4741-49d8-a4bf-2de2a639a013"
   },
   "outputs": [
    {
     "data": {
      "image/png": "[encoded data removed]",
      "text/plain": [
       "<Figure size 2160x360 with 1 Axes>"
      ]
     },
     "metadata": {
      "needs_background": "light"
     },
     "output_type": "display_data"
    }
   ],
   "source": [
    "# Se realiza una suma de todos los valores de las columnas con el propósito de observar las diferencias de los totales de cada columna\n",
    "Censo_Filtrado_totales_plot = pd.DataFrame(Censo_Filtrado.sum(), columns=['Cantidad'])\n",
    "Censo_Filtrado_totales_plot['Tipo'] = Censo_Filtrado.columns.tolist()\n",
    "\n",
    "# Se realiza la visualización de la clasificación con respecto a la aceptabilidad de los materiales de construcción usados en los hogares que recibieron los hogares Censados, \n",
    "# esto a través del método Plot propio de Pandas\n",
    "plt_censo_total_rec_mat = Censo_Filtrado_totales_plot.iloc[30:33,:].plot.barh(y = \"Cantidad\", color='red', figsize=((30,5)))\n",
    "plt.show()"
   ]
  },
  {
   "cell_type": "markdown",
   "id": "Jla5VDlCFVrf",
   "metadata": {
    "id": "Jla5VDlCFVrf"
   },
   "source": [
    "### Origen del agua\n"
   ]
  },
  {
   "cell_type": "markdown",
   "id": "L9k0qybPv42h",
   "metadata": {
    "id": "L9k0qybPv42h"
   },
   "source": [
    "Se estima que los atributos asociados al origen del agua pueden estar fuertemente asociados a la categoría de la manzana, debido a que, si el origen del agua de una manzana proviene de vertiente, pozo o camión aljibe, podría ser un fuerte indicador de que la manzana corresponde un campo o caserío."
   ]
  },
  {
   "cell_type": "code",
   "execution_count": 11,
   "id": "1f23184d-6704-4476-9139-b578cf3e7fbd",
   "metadata": {
    "colab": {
     "base_uri": "https://localhost:8080/",
     "height": 592
    },
    "id": "1f23184d-6704-4476-9139-b578cf3e7fbd",
    "outputId": "7218a843-16b5-44de-ed9f-77b854c0470c"
   },
   "outputs": [
    {
     "data": {
      "image/png": "[encoded data removed]",
      "text/plain": [
       "<Figure size 2160x720 with 1 Axes>"
      ]
     },
     "metadata": {
      "needs_background": "light"
     },
     "output_type": "display_data"
    }
   ],
   "source": [
    "Censo_Filtrado_totales_plot = pd.DataFrame(Censo_Filtrado.sum(), columns=['Cantidad'])\n",
    "Censo_Filtrado_totales_plot['Tipo'] = Censo_Filtrado.columns.tolist()\n",
    "\n",
    "# Se realiza una visualización del Origen de Agua de cada Manzana dentro del Censo  \n",
    "plt_censo_total_fuente_agua = Censo_Filtrado_totales_plot.iloc[33:37,:].plot.barh(y = \"Cantidad\", color='red', figsize=((30,10)))\n",
    "plt.show()"
   ]
  },
  {
   "cell_type": "markdown",
   "id": "jsg22uC0PsIh",
   "metadata": {
    "id": "jsg22uC0PsIh"
   },
   "source": [
    "Posteriormente se utiliza un gráfico tipo torta para representar de mejor manera la distribución del origen del agua a nivel nacional. De este gráfico se desprende que, según los datos, la mayoría del agua provista a las manzanas viene de la red pública, aunque no indica si la calidad es rural o urbana."
   ]
  },
  {
   "cell_type": "code",
   "execution_count": 12,
   "id": "a2ef9203-e60a-4491-b58b-1948022f1b5b",
   "metadata": {
    "colab": {
     "base_uri": "https://localhost:8080/",
     "height": 303
    },
    "id": "a2ef9203-e60a-4491-b58b-1948022f1b5b",
    "outputId": "69efc9cc-0ab2-4eeb-b90e-a0107206fa77"
   },
   "outputs": [
    {
     "data": {
      "image/png": "[encoded data removed]",
      "text/plain": [
       "<Figure size 288x288 with 1 Axes>"
      ]
     },
     "metadata": {},
     "output_type": "display_data"
    }
   ],
   "source": [
    "#Se suman los datos por columna\n",
    "Censo_Filtrado_totales_plot = pd.DataFrame(Censo_Filtrado.sum(), columns=['Cantidad'])\n",
    "Censo_Filtrado_totales_plot['Tipo'] = Censo_Filtrado.columns.tolist()\n",
    "myexplode = [0, 0.2, 0.4, 0.6]\n",
    "\n",
    "# Se visualiza los porcentajes de consumo de agua, tomando en consideración si el origen de esta \n",
    "plt_censo_total_fuente_agua = Censo_Filtrado_totales_plot.iloc[33:37,:].plot.pie(y=\"Cantidad\", figsize=((4,4)), autopct='%1.1f%%', startangle=0, explode = myexplode)\n",
    "plt.show()"
   ]
  },
  {
   "cell_type": "markdown",
   "id": "7bab6aa0-94da-41bb-8972-2111e4fcbc40",
   "metadata": {
    "id": "7bab6aa0-94da-41bb-8972-2111e4fcbc40"
   },
   "source": [
    "# Problemas\n"
   ]
  },
  {
   "cell_type": "markdown",
   "id": "cVufZ22st_Ru",
   "metadata": {
    "id": "cVufZ22st_Ru"
   },
   "source": [
    "## Problema 1\n",
    " \n",
    "El primer problema consiste en predecir la clase NOM_CAT_ENT de una manzana, la cual corresponde a su categoría de entidad (ciudad, pueblo, aldea, caserío, etc.). Lo anterior se eligió luego de hacer el análisis exploratorio y observar que muchas filas tienen la columna NOM_CAT_ENT con valor indeterminado. Este problema se considera como clasificación multiclase."
   ]
  },
  {
   "cell_type": "markdown",
   "id": "PQJ7UWIJuCjH",
   "metadata": {
    "id": "PQJ7UWIJuCjH"
   },
   "source": [
    "## Problema 2\n",
    " \n",
    "El segundo problema consiste en predecir el atributo NOM_AREA que corresponde al tipo de área de una manzana, este atributo indica si la manzana se encuentra en un área rural o urbana. Este problema se identifica como clasificación binaria."
   ]
  },
  {
   "cell_type": "markdown",
   "id": "a55841bb",
   "metadata": {
    "id": "a55841bb"
   },
   "source": [
    "# Propuesta metodológica experimental\n"
   ]
  },
  {
   "cell_type": "markdown",
   "id": "342iFhWXtv9T",
   "metadata": {
    "id": "342iFhWXtv9T"
   },
   "source": [
    "## Propuesta experimental problema 1\n",
    "### Método de buscar clasificador\n",
    "\n",
    "Se abordarán los dos problemas propuestos de manera similar. En el caso del problema de clasificación de la columna NOM_CAT_ENT se creará un modelo de predicción. Para hacer el modelo se entrenará un árbol de decisión. Se elige este tipo de predictor debido a que se infiere que una categoría de área para una manzana se podría decidir en base a decisiones binarias.\n",
    "\n",
    "El árbol se entrenará en base a distintas configuraciones, es decir, utilizará un rango de 1 a 14 profundidades máximas, junto con 2 criterios que corresponden al de entropía y gini, para comprobar cuál es la combinación de parámetros más adecuada para predecir NOM_CAT_ENT.\n",
    "\n",
    "Para entrenar los árboles de decisión, se separará el dataset mencionado en un conjunto de entrenamiento y otro de prueba, los cuales se dividirán en la proporción 70/30 respectivamente, ya que se considera que al utilizar el doble de datos para entrenamiento, se obtendrá un modelo capaz de predecir el tercio restante.\n",
    "\n",
    "### Dataset a utilizar\n",
    "\n",
    "Todos estos parámetros se basarán en un dataset completo que se utilizará para la implementación, el cual contempla los siguientes atributos, estos fueron elegidos a partir de lo concluido en el análisis exploratorio:\n",
    "\n",
    "  - ORIGEN_AGUA_RED_PUBLICA\n",
    "  - ORIGEN_AGUA_POZO\n",
    "  - ORIGEN_AGUA_CAMION_ALJIBE\n",
    "  - ORIGEN_AGUA_RIO_VERTIENTE_ESTERO_CANAL_LAGO\t\n",
    "  - TIPO_VIV_CASA\n",
    "  - TIPO_VIV_DPTO\n",
    "  - TIPO_VIV_TRADICIONAL\n",
    "  - TIPO_VIV_CONVENTILLO\n",
    "  - TIPO_VIV_MEDIAGUA\n",
    "  - TIPO_VIV_MOVIL\n",
    "  - TIPO_VIV_OTRO\n",
    "  - Indice_mat\n",
    "\n",
    "Estos atributos corresponden al origen del agua, el tipo de vivienda según su construcción y el índice de materialidad por manzana.\n",
    "\n",
    "### Métrica de precisión\n",
    "\n",
    "Para medir cuál modelo resulta mejor se utilizará la métrica de precisión, ya que lo que se busca maximizar es el número de aciertos, teniendo en cuenta que los falsos negativos que resulten del modelo no son tan críticos en el contexto del problema. Se considera que de las métricas estudiadas, la precisión es la que otorga un mayor valor a la propuesta, ya que permite clasificar con mayor asertividad la categorización de las manzanas del problema.\n",
    "\n",
    "Luego de entrenar los modelos se observará cuál de estos tiene la métrica de precisión más alta.\n",
    "\n",
    "### Iteraciones y otros modelos de predicción\n",
    "\n",
    "Para evitar el sesgo y generar una propuesta de validación cruzada, se utilizaron los mismos atributos para generar un modelo KNN, ya que al indagar el problema de una perspectiva distinta se asegura que las salidas de los modelos sean válidas.\n",
    "\n",
    "Este modelo se entrenará en base a distintos algoritmos (de fuerza bruta, k-d tree y ball tree) y distinta cantidad de vecinos, hasta obtener la combinación de parámetros que entregue la mejor precisión.\n",
    "\n",
    "\n",
    "Se estima que el árbol de decisión producirá mejores predictores, por lo que se busca comprobar esta hipótesis."
   ]
  },
  {
   "cell_type": "markdown",
   "id": "iD3QvfOvt4JK",
   "metadata": {
    "id": "iD3QvfOvt4JK"
   },
   "source": [
    "## Propuesta experimental problema 2\n",
    " \n",
    "Para abordar el segundo problema se realizará el mismo método de buscar clasificador, se utilizará el mismo dataset del primer problema y se evaluará en base a la métrica de precisión, a diferencia de que, en vez de entrenar los modelos para predecir NOM_CAT_ENT, se entrenará para predecir la columna NOM_AREA."
   ]
  },
  {
   "cell_type": "markdown",
   "id": "MyL1vuhB0oRr",
   "metadata": {
    "id": "MyL1vuhB0oRr"
   },
   "source": [
    "# Implementación de propuesta experimental\n",
    "\n",
    "A continuación se muestra una implementación de la propuesta experimental.\n"
   ]
  },
  {
   "cell_type": "markdown",
   "id": "GA2Uwm6QSWNy",
   "metadata": {
    "id": "GA2Uwm6QSWNy"
   },
   "source": [
    "\n",
    "## Implementación problema 1\n",
    "\n",
    "Como primer paso de la implementación del primer problema, se comienza creando un dataset con los atributos propuestos en la definición de la metodología."
   ]
  },
  {
   "cell_type": "code",
   "execution_count": 13,
   "id": "JwEAymr8lJfh",
   "metadata": {
    "id": "JwEAymr8lJfh"
   },
   "outputs": [],
   "source": [
    "#Se crea el dataset utilizando los atributos propuestos\n",
    "Censo_Filtrado_variables_significativas = Censo_Filtrado.drop([\"NOM_AREA\",\"NOM_REGION\", \"VIVIENDA_PARTICULAR_OCUPADA\",\n",
    "\"VIVIENDA_PARTICULAR\", \"VIVIENDA_COLECTIVA\", \"TOTAL_VIV\", \"PERSONAS\", \"MATERIAL_MURO_EXT_HORMIGON\", \n",
    "\"MAT_PISO_CAPACEMENTO_SOBRE_TIERRA\", \"MAT_PISO_TIERRA\", \"MAT_PISO_CAPACEMENTO_SOBRE_TIERRA\", \"MATERIAL_MURO_EXT_TABIQUE_FORRADO\"\n",
    ",\"MATERIAL_MURO_EXT_ALBANILERIA\",\"MATERIAL_MURO_EXT_TABIQUE_SIN_FORRO\",\"MATERIAL_MURO_EXT_ADOBE_BARRO_QUINCHA\",\n",
    "\"MAT_PISO_RADIER_SIN_REVESTIMIENTO\",\"MAT_PISO_BALDOSA_CEMENTO\",\"MATERIAL_MURO_EXT_PRECARIOS\",\n",
    "\"MAT_CUB_TECHO_TEJAS_METALICAS_CEMENT_MADERA_ASFALTICA\",\"MAT_CUB_TECHO_LOSA_HORMIGON\",\"MAT_CUB_TECHO_SIN_CUBIERTA_SOLIDA\"\n",
    ",\"MAT_PISO_PAQUET_PISOFLOTANTE_CERAMICO\",\"MAT_CUB_TECHO_PLANCHAZINC_COBRE_FIBROCEMENTO\",\n",
    "\"MAT_CUB_TECHO_FONOLITA\",\"MAT_CUB_TECHO_PAJA_COIRON_TOTORA_CAÑA\",\"MAT_CUB_TECHO_MATERIALES_PRECARIO\", \"MAT_ACEPTABLE\",\n",
    "\"MAT_RECUPERABLE\", \"MATIRREC\"], axis=1);\n",
    "\n"
   ]
  },
  {
   "cell_type": "markdown",
   "id": "LiQfWdNk4jgY",
   "metadata": {
    "id": "LiQfWdNk4jgY"
   },
   "source": [
    "Se crea un subconjunto de manzanas que poseen categoría NOM_CAT_ENT definida y que no posean atributos indeterminados. Luego se dividen en dos secciones, las que corresponden a la de datos (X) y la de clase (y). Es importante tener en cuenta que la proporción de manzanas con categoría indeterminada es mucho mayor a las que poseen categoría definida, lo que producirá un cierto sesgo en sus resultados."
   ]
  },
  {
   "cell_type": "code",
   "execution_count": 14,
   "id": "f7977abe-ae3f-4aeb-a175-dfe70551f2a7",
   "metadata": {
    "id": "f7977abe-ae3f-4aeb-a175-dfe70551f2a7"
   },
   "outputs": [],
   "source": [
    "# Se realiza el filtro de todos las filas que poseen valores indeterminados\n",
    "Censo_Filtrado_sin_indeterminadas = Censo_Filtrado_variables_significativas.loc[Censo_Filtrado['NOM_CAT_ENT'] != \"Indeterminada\"]\n",
    "X = Censo_Filtrado_sin_indeterminadas.loc[:, Censo_Filtrado_sin_indeterminadas.columns != 'NOM_CAT_ENT'].values\n",
    "y = Censo_Filtrado_sin_indeterminadas['NOM_CAT_ENT'].values"
   ]
  },
  {
   "cell_type": "markdown",
   "id": "2NdhLnS45tYp",
   "metadata": {
    "id": "2NdhLnS45tYp"
   },
   "source": [
    "Luego se divide tal subconjunto en datos de entrenamiento y datos de prueba, además de estratificar las muestras para generar un resultado más consistente entre pruebas, utilizando una proporción de 70/30 respectivamente, lo que permite entrenar el modelo con el doble de datos que el testeo, esto permite asegurar el resultado del modelo."
   ]
  },
  {
   "cell_type": "code",
   "execution_count": 15,
   "id": "DHpvY96Fs1uV",
   "metadata": {
    "id": "DHpvY96Fs1uV"
   },
   "outputs": [],
   "source": [
    "#Se cargan las bibliotecas necesarias para crear un set de entrenamiento y testeo y posterior creación del modelo.\n",
    "from sklearn.model_selection import train_test_split\n",
    "from sklearn.tree import DecisionTreeClassifier\n",
    "from sklearn.metrics import classification_report\n",
    "from sklearn.metrics import precision_score\n",
    "from sklearn.neighbors import KNeighborsClassifier\n",
    "\n",
    "# Creación de un set de entrenamiento y testeo con una proporción de 70% entrenamiento y 30% testeo \n",
    "X_train, X_test, y_train, y_test_p1 = train_test_split(X, y, test_size=.30,\n",
    "                                                    random_state=40, stratify=y)"
   ]
  },
  {
   "cell_type": "markdown",
   "id": "dP4c44np5_u6",
   "metadata": {
    "id": "dP4c44np5_u6"
   },
   "source": [
    "### Árbol de decisión\n",
    "\n"
   ]
  },
  {
   "cell_type": "markdown",
   "id": "1p5kbpiYwt-4",
   "metadata": {
    "id": "1p5kbpiYwt-4"
   },
   "source": [
    "Se crean los árboles de decisión con distintas profundidades y criterios, para obtener la mejor combinación de parámetros, los cuales se mostrarán en la sección de resultados.\n",
    "\n",
    "Se probará el criterio por defecto (gini) y otro adicional (entropía). Para elegir el rango de profundidades máximas, se ejecutó este algoritmo varias veces hasta que se observó que la métrica de precisión fuera ascendente en los primeros valores y descendente en los últimos, lo que permitió elegir un rango de profundidades que van de 1 a 14. El promedio de precisiones por iteración se calculará de forma global, contando el total de verdaderos positivos, falsos negativos y falsos positivos.\n",
    "\n",
    "A continuación se definirá la función que contiene el algoritmo mencionado:"
   ]
  },
  {
   "cell_type": "code",
   "execution_count": 16,
   "id": "1ZKQnsXUs4Zf",
   "metadata": {
    "id": "1ZKQnsXUs4Zf"
   },
   "outputs": [],
   "source": [
    "def getBestDecisionTreeParameters(X_train, X_test, y_train, y_test):\n",
    "    criterios = [\"entropy\", \"gini\"];   #se evaluará la pureza de los nodos en base a los criterios de entropía y gini\n",
    "    max_depths = range(1,15);  #se utilizará un rango de 1 a 14 profundidades máximas\n",
    "\n",
    "    best_precision = 0;\n",
    "    best_criterio = \"\";\n",
    "    best_depth = 0;\n",
    "    best_tree_clf = DecisionTreeClassifier();\n",
    "\n",
    "    for c in criterios:\n",
    "        for d in max_depths:\n",
    "            clf_orig = DecisionTreeClassifier(criterion=c,max_depth=d);\n",
    "            clf_orig.fit(X_train, y_train);\n",
    "            y_pred = clf_orig.predict(X_test);\n",
    "            #el promedio de precisiones se obtiene calculando esta métrica de forma global, contando el total de TP, FN y FP\n",
    "            precision = precision_score(y_test, y_pred, average='micro'); \n",
    "            if precision > best_precision:\n",
    "                best_precision = precision;\n",
    "                best_criterio = c;\n",
    "                best_depth = d;\n",
    "                best_tree_clf = clf_orig;\n",
    "            print(\"Precisión con criterio: [\" + str(c) + \"] profundidad [\" + str(d) + \"]:  \" + str(precision));\n",
    "\n",
    "    y_pred_tree = best_tree_clf.predict(X_test);\n",
    "    return best_precision, best_criterio, best_depth, best_tree_clf, y_pred_tree;"
   ]
  },
  {
   "cell_type": "markdown",
   "id": "7a9d506f",
   "metadata": {
    "id": "7a9d506f"
   },
   "source": [
    "Luego se ejecuta la función definida para obtener la mejor combinación de parámetros del árbol de decisión:"
   ]
  },
  {
   "cell_type": "code",
   "execution_count": 17,
   "id": "kS5QWCmpqEy-",
   "metadata": {
    "id": "kS5QWCmpqEy-",
    "outputId": "93202be6-6c80-4975-b9a4-6827be28200e",
    "scrolled": true
   },
   "outputs": [
    {
     "name": "stdout",
     "output_type": "stream",
     "text": [
      "Precisión con criterio: [entropy] profundidad [1]:  0.4681117132138391\n",
      "Precisión con criterio: [entropy] profundidad [2]:  0.47255801028206196\n",
      "Precisión con criterio: [entropy] profundidad [3]:  0.48409059330276505\n",
      "Precisión con criterio: [entropy] profundidad [4]:  0.4952063359733222\n",
      "Precisión con criterio: [entropy] profundidad [5]:  0.5045157704599138\n",
      "Precisión con criterio: [entropy] profundidad [6]:  0.5049326108100598\n",
      "Precisión con criterio: [entropy] profundidad [7]:  0.5125746838960678\n",
      "Precisión con criterio: [entropy] profundidad [8]:  0.5088231207447548\n",
      "Precisión con criterio: [entropy] profundidad [9]:  0.5104904821453383\n",
      "Precisión con criterio: [entropy] profundidad [10]:  0.5096568014450465\n",
      "Precisión con criterio: [entropy] profundidad [11]:  0.5031263026260943\n",
      "Precisión con criterio: [entropy] profundidad [12]:  0.4940947617062665\n",
      "Precisión con criterio: [entropy] profundidad [13]:  0.4831179658190913\n",
      "Precisión con criterio: [entropy] profundidad [14]:  0.4749201055995554\n",
      "Precisión con criterio: [gini] profundidad [1]:  0.46936223426427676\n",
      "Precisión con criterio: [gini] profundidad [2]:  0.48297901903570933\n",
      "Precisión con criterio: [gini] profundidad [3]:  0.4902042517715715\n",
      "Precisión con criterio: [gini] profundidad [4]:  0.4927052938724468\n",
      "Precisión con criterio: [gini] profundidad [5]:  0.5060441850771155\n",
      "Precisión con criterio: [gini] profundidad [6]:  0.51201889676254\n",
      "Precisión con criterio: [gini] profundidad [7]:  0.5168820341809087\n",
      "Precisión con criterio: [gini] profundidad [8]:  0.5149367792135612\n",
      "Precisión con criterio: [gini] profundidad [9]:  0.5152146727803252\n",
      "Precisión con criterio: [gini] profundidad [10]:  0.5095178546616645\n",
      "Precisión con criterio: [gini] profundidad [11]:  0.5047936640266778\n",
      "Precisión con criterio: [gini] profundidad [12]:  0.495901069890232\n",
      "Precisión con criterio: [gini] profundidad [13]:  0.49353897457273865\n",
      "Precisión con criterio: [gini] profundidad [14]:  0.488120050020842\n"
     ]
    }
   ],
   "source": [
    "best_precision_tree_p1, best_criterio_tree_p1, best_depth_tree_p1, best_tree_clf_p1, y_pred_tree_p1 = getBestDecisionTreeParameters(X_train, X_test, y_train, y_test_p1)"
   ]
  },
  {
   "cell_type": "markdown",
   "id": "WvQ_hudnW_1h",
   "metadata": {
    "id": "WvQ_hudnW_1h"
   },
   "source": [
    "### KNN\n",
    "\n"
   ]
  },
  {
   "cell_type": "markdown",
   "id": "AnYMXToTwwdl",
   "metadata": {
    "id": "AnYMXToTwwdl"
   },
   "source": [
    "Para intentar mejorar la precisión del modelo, se prueba realizar el mismo método pero con KNN en vez de árbol de decisión.\n",
    "\n",
    "Se probarán tres algoritmos (de fuerza bruta, k-d tree y ball tree). El rango de número de vecinos se decide ejecutando el siguiente algoritmo y observando si la métrica de precisión tiende a aumentar o disminuir en ciertos puntos. Al igual que en el árbol de precisión, el promedio de precisiones por iteración se calculará de forma global.\n",
    "\n",
    "A continuación se definirá la función que contiene el algoritmo mencionado:"
   ]
  },
  {
   "cell_type": "code",
   "execution_count": 18,
   "id": "Ua8m44dPM7S6",
   "metadata": {
    "id": "Ua8m44dPM7S6"
   },
   "outputs": [],
   "source": [
    "def getBestKNNParameters(X_train, X_test, y_train, y_test):\n",
    "    algorithms = [\"brute\", \"kd_tree\", \"ball_tree\"];   #se evalúan los algoritmos de fuerza bruta, k-d tree y ball tree\n",
    "    n_neighbors = [14, 18, 24, 32];  #se probará un rango de vecinos que va de 14 a 32, eligiendo valores intermedios\n",
    "\n",
    "    best_precision = 0;\n",
    "    best_algo = \"\";\n",
    "    best_n = 0;\n",
    "    best_knn_clf = KNeighborsClassifier();\n",
    "\n",
    "    for c in algorithms:\n",
    "        for d in n_neighbors:\n",
    "            clf_orig = KNeighborsClassifier(algorithm=c,n_neighbors=d);\n",
    "            clf_orig.fit(X_train, y_train);\n",
    "            y_pred = clf_orig.predict(X_test);\n",
    "            #el promedio de precisiones se obtiene calculando esta métrica de forma global, contando el total de TP, FN y FP\n",
    "            precision = precision_score(y_test, y_pred, average='micro');\n",
    "            if precision > best_precision:\n",
    "                best_precision = precision;\n",
    "                best_algo = c;\n",
    "                best_n = d;\n",
    "                best_knn_clf = clf_orig;\n",
    "            print(\"Precisión con algoritmo: [\" + str(c) + \"] n_vecinos [\" + str(d) + \"]:  \" + str(precision));\n",
    "\n",
    "    y_pred_knn = best_knn_clf.predict(X_test);\n",
    "    return best_precision, best_algo, best_n, best_knn_clf, y_pred_knn;"
   ]
  },
  {
   "cell_type": "markdown",
   "id": "2dba3214",
   "metadata": {
    "id": "2dba3214"
   },
   "source": [
    "Luego se ejecuta la función definida para obtener la mejor combinación de parámetros de KNN:"
   ]
  },
  {
   "cell_type": "code",
   "execution_count": 19,
   "id": "usOXSjOgtrsW",
   "metadata": {
    "id": "usOXSjOgtrsW",
    "outputId": "57e0ce52-e3da-4730-bc30-9bd092877de2"
   },
   "outputs": [
    {
     "name": "stdout",
     "output_type": "stream",
     "text": [
      "Precisión con algoritmo: [brute] n_vecinos [14]:  0.48353480616923716\n",
      "Precisión con algoritmo: [brute] n_vecinos [18]:  0.4868695289704043\n",
      "Precisión con algoritmo: [brute] n_vecinos [24]:  0.48992635820480757\n",
      "Precisión con algoritmo: [brute] n_vecinos [32]:  0.4858969014867306\n",
      "Precisión con algoritmo: [kd_tree] n_vecinos [14]:  0.48450743365291093\n",
      "Precisión con algoritmo: [kd_tree] n_vecinos [18]:  0.48839794358760596\n",
      "Precisión con algoritmo: [kd_tree] n_vecinos [24]:  0.4900653049881895\n",
      "Precisión con algoritmo: [kd_tree] n_vecinos [32]:  0.4853411143532027\n",
      "Precisión con algoritmo: [ball_tree] n_vecinos [14]:  0.4838126997360011\n",
      "Precisión con algoritmo: [ball_tree] n_vecinos [18]:  0.488120050020842\n",
      "Precisión con algoritmo: [ball_tree] n_vecinos [24]:  0.48839794358760596\n",
      "Precisión con algoritmo: [ball_tree] n_vecinos [32]:  0.48409059330276505\n"
     ]
    }
   ],
   "source": [
    "best_precision_knn_p1, best_algo_knn_p1, best_n_knn_p1, best_knn_clf_p1, y_pred_knn_p1 = getBestKNNParameters(X_train, X_test, y_train, y_test_p1)"
   ]
  },
  {
   "cell_type": "markdown",
   "id": "OByq0dnfMzI5",
   "metadata": {
    "id": "OByq0dnfMzI5",
    "tags": []
   },
   "source": [
    "## Implementación problema 2\n",
    "\n",
    "Como primer paso de la implementación del segundo problema, se comienza creando un dataset con los atributos propuestos en la definición de la metodología."
   ]
  },
  {
   "cell_type": "code",
   "execution_count": 20,
   "id": "36810fb4",
   "metadata": {
    "id": "36810fb4"
   },
   "outputs": [],
   "source": [
    "#Se crea el dataset utilizando los atributos propuestos\n",
    "Censo_Filtrado_variables_significativas = Censo_Filtrado.drop([\"NOM_CAT_ENT\",\"NOM_REGION\", \"VIVIENDA_PARTICULAR_OCUPADA\",\n",
    "\"VIVIENDA_PARTICULAR\", \"VIVIENDA_COLECTIVA\", \"TOTAL_VIV\", \"PERSONAS\", \"MATERIAL_MURO_EXT_HORMIGON\", \n",
    "\"MAT_PISO_CAPACEMENTO_SOBRE_TIERRA\", \"MAT_PISO_TIERRA\", \"MAT_PISO_CAPACEMENTO_SOBRE_TIERRA\", \"MATERIAL_MURO_EXT_TABIQUE_FORRADO\"\n",
    ",\"MATERIAL_MURO_EXT_ALBANILERIA\",\"MATERIAL_MURO_EXT_TABIQUE_SIN_FORRO\",\"MATERIAL_MURO_EXT_ADOBE_BARRO_QUINCHA\",\n",
    "\"MAT_PISO_RADIER_SIN_REVESTIMIENTO\",\"MAT_PISO_BALDOSA_CEMENTO\",\"MATERIAL_MURO_EXT_PRECARIOS\",\n",
    "\"MAT_CUB_TECHO_TEJAS_METALICAS_CEMENT_MADERA_ASFALTICA\",\"MAT_CUB_TECHO_LOSA_HORMIGON\",\"MAT_CUB_TECHO_SIN_CUBIERTA_SOLIDA\"\n",
    ",\"MAT_PISO_PAQUET_PISOFLOTANTE_CERAMICO\",\"MAT_CUB_TECHO_PLANCHAZINC_COBRE_FIBROCEMENTO\",\n",
    "\"MAT_CUB_TECHO_FONOLITA\",\"MAT_CUB_TECHO_PAJA_COIRON_TOTORA_CAÑA\",\"MAT_CUB_TECHO_MATERIALES_PRECARIO\", \"MAT_ACEPTABLE\",\n",
    "\"MAT_RECUPERABLE\", \"MATIRREC\"], axis=1);"
   ]
  },
  {
   "cell_type": "markdown",
   "id": "ab1392e7",
   "metadata": {
    "id": "ab1392e7"
   },
   "source": [
    "Se crea un subconjunto de manzanas que poseen categoría NOM_AREA definida y que no posean atributos indeterminados. Luego se dividen en dos secciones, las que corresponden a la de datos (X) y la de clase (y)."
   ]
  },
  {
   "cell_type": "code",
   "execution_count": 21,
   "id": "d11fc6ea",
   "metadata": {
    "id": "d11fc6ea"
   },
   "outputs": [],
   "source": [
    "# Se realiza el filtro de todos las filas que poseen valores indeterminados\n",
    "Censo_Filtrado_sin_indeterminadas = Censo_Filtrado_variables_significativas.loc[Censo_Filtrado['NOM_AREA'] != \"Indeterminada\"]\n",
    "X = Censo_Filtrado_sin_indeterminadas.loc[:, Censo_Filtrado_sin_indeterminadas.columns != 'NOM_AREA'].values\n",
    "y = Censo_Filtrado_sin_indeterminadas['NOM_AREA'].values"
   ]
  },
  {
   "cell_type": "markdown",
   "id": "549feeff",
   "metadata": {
    "id": "549feeff"
   },
   "source": [
    "Luego se divide tal subconjunto en datos de entrenamiento y datos de prueba, además de estratificar las muestras para generar un resultado más consistente entre pruebas, utilizando una proporción de 70/30 respectivamente, lo que permite entrenar el modelo con el doble de datos que el testeo, esto permite asegurar el resultado del modelo."
   ]
  },
  {
   "cell_type": "code",
   "execution_count": 22,
   "id": "6d972db5",
   "metadata": {
    "id": "6d972db5"
   },
   "outputs": [],
   "source": [
    "# Creación de un set de entrenamiento y testeo con una proporción de 70% entrenamiento y 30% testeo\n",
    "X_train, X_test, y_train, y_test_p2 = train_test_split(X, y, test_size=.30,\n",
    "                                                    random_state=40, stratify=y)"
   ]
  },
  {
   "cell_type": "markdown",
   "id": "071a8af6",
   "metadata": {
    "id": "071a8af6"
   },
   "source": [
    "### Árbol de decisión\n",
    "\n"
   ]
  },
  {
   "cell_type": "markdown",
   "id": "fGySNRw6wzPG",
   "metadata": {
    "id": "fGySNRw6wzPG"
   },
   "source": [
    "Se crean los árboles de decisión con distintas profundidades y criterios, para obtener la mejor combinación de parámetros y luego exponerlos en la sección de resultados.\n",
    "\n",
    "Luego se ejecuta función definida en el árbol de decisión del primer problema, utilizando los mismos criterios y profundidades:"
   ]
  },
  {
   "cell_type": "code",
   "execution_count": 23,
   "id": "b969fa4f",
   "metadata": {
    "id": "b969fa4f",
    "outputId": "ea536179-c662-46a2-858e-0060242ea213"
   },
   "outputs": [
    {
     "name": "stdout",
     "output_type": "stream",
     "text": [
      "Precisión con criterio: [entropy] profundidad [1]:  0.9205540166204986\n",
      "Precisión con criterio: [entropy] profundidad [2]:  0.9205540166204986\n",
      "Precisión con criterio: [entropy] profundidad [3]:  0.9213296398891967\n",
      "Precisión con criterio: [entropy] profundidad [4]:  0.9270175438596491\n",
      "Precisión con criterio: [entropy] profundidad [5]:  0.9279224376731302\n",
      "Precisión con criterio: [entropy] profundidad [6]:  0.9288457987072946\n",
      "Precisión con criterio: [entropy] profundidad [7]:  0.9290120036934442\n",
      "Precisión con criterio: [entropy] profundidad [8]:  0.9295106186518929\n",
      "Precisión con criterio: [entropy] profundidad [9]:  0.9320960295475531\n",
      "Precisión con criterio: [entropy] profundidad [10]:  0.9315235457063712\n",
      "Precisión con criterio: [entropy] profundidad [11]:  0.9324469067405355\n",
      "Precisión con criterio: [entropy] profundidad [12]:  0.9318559556786704\n",
      "Precisión con criterio: [entropy] profundidad [13]:  0.9307109879963066\n",
      "Precisión con criterio: [entropy] profundidad [14]:  0.9300092336103416\n",
      "Precisión con criterio: [gini] profundidad [1]:  0.9270175438596491\n",
      "Precisión con criterio: [gini] profundidad [2]:  0.9270175438596491\n",
      "Precisión con criterio: [gini] profundidad [3]:  0.9270175438596491\n",
      "Precisión con criterio: [gini] profundidad [4]:  0.9279593721144967\n",
      "Precisión con criterio: [gini] profundidad [5]:  0.9284210526315789\n",
      "Precisión con criterio: [gini] profundidad [6]:  0.9285872576177285\n",
      "Precisión con criterio: [gini] profundidad [7]:  0.9308771929824562\n",
      "Precisión con criterio: [gini] profundidad [8]:  0.9318190212373038\n",
      "Precisión con criterio: [gini] profundidad [9]:  0.9324284395198522\n",
      "Precisión con criterio: [gini] profundidad [10]:  0.9336288088642659\n",
      "Precisión con criterio: [gini] profundidad [11]:  0.9325761772853186\n",
      "Precisión con criterio: [gini] profundidad [12]:  0.9325207756232687\n",
      "Precisión con criterio: [gini] profundidad [13]:  0.9309879963065558\n",
      "Precisión con criterio: [gini] profundidad [14]:  0.9300646352723915\n"
     ]
    }
   ],
   "source": [
    "# Entrega de los resultados tomando en cuenta los diferentes criterios y profundidad y con la función definida en el Arbol de Decisón\n",
    "best_precision_tree_p2, best_criterio_tree_p2, best_depth_tree_p2, best_tree_clf_p2, y_pred_tree_p2 = getBestDecisionTreeParameters(X_train, X_test, y_train, y_test_p2)"
   ]
  },
  {
   "cell_type": "markdown",
   "id": "d2e63c38",
   "metadata": {
    "id": "d2e63c38"
   },
   "source": [
    "### KNN\n"
   ]
  },
  {
   "cell_type": "markdown",
   "id": "Rb7o19Vcw1ky",
   "metadata": {
    "id": "Rb7o19Vcw1ky"
   },
   "source": [
    "Para intentar mejorar la precisión del modelo, se prueba realizar el mismo método pero con KNN en vez de árbol de decisión.\n",
    "\n",
    "Luego se ejecuta función definida en el KNN del primer problema, utilizando los mismos criterios y profundidades:"
   ]
  },
  {
   "cell_type": "code",
   "execution_count": 24,
   "id": "8b25a29a",
   "metadata": {
    "id": "8b25a29a",
    "outputId": "190b304f-8ad0-4a47-cb71-e701e10f03e1"
   },
   "outputs": [
    {
     "name": "stdout",
     "output_type": "stream",
     "text": [
      "Precisión con algoritmo: [brute] n_vecinos [14]:  0.9335180055401662\n",
      "Precisión con algoritmo: [brute] n_vecinos [18]:  0.9345891043397968\n",
      "Precisión con algoritmo: [brute] n_vecinos [24]:  0.9337396121883657\n",
      "Precisión con algoritmo: [brute] n_vecinos [32]:  0.9342382271468144\n",
      "Precisión con algoritmo: [kd_tree] n_vecinos [14]:  0.9336472760849492\n",
      "Precisión con algoritmo: [kd_tree] n_vecinos [18]:  0.9345521698984303\n",
      "Precisión con algoritmo: [kd_tree] n_vecinos [24]:  0.9338134810710988\n",
      "Precisión con algoritmo: [kd_tree] n_vecinos [32]:  0.9339612188365651\n",
      "Precisión con algoritmo: [ball_tree] n_vecinos [14]:  0.9336657433056325\n",
      "Precisión con algoritmo: [ball_tree] n_vecinos [18]:  0.9346260387811635\n",
      "Precisión con algoritmo: [ball_tree] n_vecinos [24]:  0.933758079409049\n",
      "Precisión con algoritmo: [ball_tree] n_vecinos [32]:  0.9339427516158818\n"
     ]
    }
   ],
   "source": [
    "# Entrega de los resultados usando la función definida en KNN\n",
    "best_precision_knn_p2, best_algo_knn_p2, best_n_knn_p2, best_knn_clf_p2, y_pred_knn_p2 = getBestKNNParameters(X_train, X_test, y_train, y_test_p2)"
   ]
  },
  {
   "cell_type": "markdown",
   "id": "dOSNGUbYED6P",
   "metadata": {
    "id": "dOSNGUbYED6P"
   },
   "source": [
    "# Resultados\n",
    "\n"
   ]
  },
  {
   "cell_type": "markdown",
   "id": "jR1xWVGVSA6C",
   "metadata": {
    "id": "jR1xWVGVSA6C"
   },
   "source": [
    "## Resultados problema 1\n",
    "El método experimental aplicado dio como resultado un modelo de árbol de decisión con una precisión promedio de 0.5167. Se puede observar que las clases con menor cantidad de datos obtuvieron peor precisión, la metodología permitió encontrar un modelo mejor que si se hubiera usado un árbol de decisión con configuración por defecto. La diferencia entre la precisión del mejor y peor árbol de decisión encontrado es de 5% aproximadamente.\n",
    "\n",
    "Según la metodología que se eligió, el modelo que mejor predice NOM_CAT_ENT es el árbol de decisión con criterio gini y máxima profundidad 7. Este modelo de árbol de decisión otorgó una precisión de 0.5167, el cual posee una diferencia del 1% con respecto al mejor modelo de KNN que obtuvo una precisión de 0.5059 a partir del algoritmo de fuerza bruta y número de vecinos igual a 24.\n",
    "\n",
    "Se observa que las categorías que se predicen con mayor precisión son:\n",
    "\n",
    "- Aldea\n",
    "- Comunidad Indígena\n",
    "- Parcela-Hijuela"
   ]
  },
  {
   "cell_type": "markdown",
   "id": "DsjkC2zlW190",
   "metadata": {
    "id": "DsjkC2zlW190"
   },
   "source": [
    "### Árbol de decisión"
   ]
  },
  {
   "cell_type": "code",
   "execution_count": 25,
   "id": "21b27b55-7ee4-4d88-adb2-acfcac36bb0f",
   "metadata": {
    "id": "21b27b55-7ee4-4d88-adb2-acfcac36bb0f",
    "outputId": "455c9195-4f35-40d0-a1a8-8a1696adc57a"
   },
   "outputs": [
    {
     "name": "stdout",
     "output_type": "stream",
     "text": [
      "Mejor precisión: 0.5168820341809087\n",
      "Mejor criterio: gini\n",
      "Mejor profundidad máxima: 7\n",
      "                         precision    recall  f1-score   support\n",
      "\n",
      "                  Aldea       0.62      0.29      0.40       218\n",
      "    Asentamiento Minero       0.32      0.15      0.20        75\n",
      "  Asentamiento Pesquero       0.35      0.57      0.43        75\n",
      "             Campamento       0.00      0.00      0.00        16\n",
      "                Caserío       0.46      0.31      0.37      1101\n",
      "     Comunidad Indígena       0.61      0.02      0.04       647\n",
      "Fundo-Estancia-Hacienda       0.45      0.45      0.45      1029\n",
      "                  Otros       0.00      0.00      0.00        91\n",
      "      Parcela de Agrado       0.45      0.18      0.26       490\n",
      "        Parcela-Hijuela       0.55      0.80      0.65      3307\n",
      " Veranada-Majada-Aguada       0.39      0.34      0.37       148\n",
      "\n",
      "               accuracy                           0.52      7197\n",
      "              macro avg       0.38      0.28      0.29      7197\n",
      "           weighted avg       0.51      0.52      0.47      7197\n",
      "\n"
     ]
    },
    {
     "name": "stderr",
     "output_type": "stream",
     "text": [
      "C:\\Users\\Diego\\AppData\\Local\\Programs\\Python\\Python310\\lib\\site-packages\\sklearn\\metrics\\_classification.py:1334: UndefinedMetricWarning: Precision and F-score are ill-defined and being set to 0.0 in labels with no predicted samples. Use `zero_division` parameter to control this behavior.\n",
      "  _warn_prf(average, modifier, msg_start, len(result))\n",
      "C:\\Users\\Diego\\AppData\\Local\\Programs\\Python\\Python310\\lib\\site-packages\\sklearn\\metrics\\_classification.py:1334: UndefinedMetricWarning: Precision and F-score are ill-defined and being set to 0.0 in labels with no predicted samples. Use `zero_division` parameter to control this behavior.\n",
      "  _warn_prf(average, modifier, msg_start, len(result))\n",
      "C:\\Users\\Diego\\AppData\\Local\\Programs\\Python\\Python310\\lib\\site-packages\\sklearn\\metrics\\_classification.py:1334: UndefinedMetricWarning: Precision and F-score are ill-defined and being set to 0.0 in labels with no predicted samples. Use `zero_division` parameter to control this behavior.\n",
      "  _warn_prf(average, modifier, msg_start, len(result))\n"
     ]
    }
   ],
   "source": [
    "# Se muestra el reporte de clasificación con función definida en el Arbol de Decisión\n",
    "print(\"Mejor precisión: \" + str(best_precision_tree_p1));\n",
    "print(\"Mejor criterio: \" + str(best_criterio_tree_p1));\n",
    "print(\"Mejor profundidad máxima: \" + str(best_depth_tree_p1));\n",
    "print(classification_report(y_test_p1, y_pred_tree_p1))  "
   ]
  },
  {
   "cell_type": "markdown",
   "id": "bMPHjyeoW5gX",
   "metadata": {
    "id": "bMPHjyeoW5gX"
   },
   "source": [
    "### KNN"
   ]
  },
  {
   "cell_type": "code",
   "execution_count": 26,
   "id": "nWP_0xvJW6wY",
   "metadata": {
    "id": "nWP_0xvJW6wY",
    "outputId": "65a4ffe2-0df1-4234-df50-bff05e52f1c6"
   },
   "outputs": [
    {
     "name": "stdout",
     "output_type": "stream",
     "text": [
      "Mejor precisión: 0.4900653049881895\n",
      "Mejor algoritmo: kd_tree\n",
      "Mejor número vecinos: 24\n",
      "                         precision    recall  f1-score   support\n",
      "\n",
      "                  Aldea       0.36      0.25      0.29       218\n",
      "    Asentamiento Minero       0.33      0.01      0.03        75\n",
      "  Asentamiento Pesquero       0.33      0.55      0.41        75\n",
      "             Campamento       0.00      0.00      0.00        16\n",
      "                Caserío       0.42      0.31      0.36      1101\n",
      "     Comunidad Indígena       0.41      0.09      0.15       647\n",
      "Fundo-Estancia-Hacienda       0.39      0.20      0.27      1029\n",
      "                  Otros       0.00      0.00      0.00        91\n",
      "      Parcela de Agrado       0.58      0.21      0.30       490\n",
      "        Parcela-Hijuela       0.52      0.81      0.63      3307\n",
      " Veranada-Majada-Aguada       0.38      0.34      0.36       148\n",
      "\n",
      "               accuracy                           0.49      7197\n",
      "              macro avg       0.34      0.25      0.26      7197\n",
      "           weighted avg       0.46      0.49      0.44      7197\n",
      "\n"
     ]
    },
    {
     "name": "stderr",
     "output_type": "stream",
     "text": [
      "C:\\Users\\Diego\\AppData\\Local\\Programs\\Python\\Python310\\lib\\site-packages\\sklearn\\metrics\\_classification.py:1334: UndefinedMetricWarning: Precision and F-score are ill-defined and being set to 0.0 in labels with no predicted samples. Use `zero_division` parameter to control this behavior.\n",
      "  _warn_prf(average, modifier, msg_start, len(result))\n",
      "C:\\Users\\Diego\\AppData\\Local\\Programs\\Python\\Python310\\lib\\site-packages\\sklearn\\metrics\\_classification.py:1334: UndefinedMetricWarning: Precision and F-score are ill-defined and being set to 0.0 in labels with no predicted samples. Use `zero_division` parameter to control this behavior.\n",
      "  _warn_prf(average, modifier, msg_start, len(result))\n",
      "C:\\Users\\Diego\\AppData\\Local\\Programs\\Python\\Python310\\lib\\site-packages\\sklearn\\metrics\\_classification.py:1334: UndefinedMetricWarning: Precision and F-score are ill-defined and being set to 0.0 in labels with no predicted samples. Use `zero_division` parameter to control this behavior.\n",
      "  _warn_prf(average, modifier, msg_start, len(result))\n"
     ]
    }
   ],
   "source": [
    "# Se muestra el reporte de clasificación con función definida en KNN\n",
    "print(\"Mejor precisión: \" + str(best_precision_knn_p1));\n",
    "print(\"Mejor algoritmo: \" + str(best_algo_knn_p1));\n",
    "print(\"Mejor número vecinos: \" + str(best_n_knn_p1));\n",
    "print(classification_report(y_test_p1, y_pred_knn_p1))  "
   ]
  },
  {
   "cell_type": "markdown",
   "id": "FweDQ3VkQ1NX",
   "metadata": {
    "id": "FweDQ3VkQ1NX"
   },
   "source": [
    "## Resultados problema 2\n",
    "El método dio como resultado un modelo de KNN con una precisión promedio de 0.9336. La categorías urbana y rural obtuvieron una precisión del 97% y 77% respectivamente. La diferencia entre el peor y mejor modelo (tanto KNN como árbol de decisión) en su precisión promedio es de aproximadamente 1%.\n",
    "\n",
    "Según la metodología que se eligió, el modelo que mejor predice el atributo NOM_AREA es el KNN que obtuvo una precisión de 0.935, con algoritmo de fuerza bruta y número de vecinos igual a 18. Este modelo posee una diferencia muy baja con respecto al mejor modelo de árbol de decisión que obtuvo una precisión de 0.9336 a partir del criterio de gini y una profundidad máxima de 10."
   ]
  },
  {
   "cell_type": "markdown",
   "id": "3jMKHsDkXBvC",
   "metadata": {
    "id": "3jMKHsDkXBvC"
   },
   "source": [
    "### Árbol de decisión"
   ]
  },
  {
   "cell_type": "code",
   "execution_count": 27,
   "id": "kMx8MnQrRPWA",
   "metadata": {
    "id": "kMx8MnQrRPWA",
    "outputId": "4f7021b8-f327-4120-8be2-4f425ad3514b"
   },
   "outputs": [
    {
     "name": "stdout",
     "output_type": "stream",
     "text": [
      "Mejor precisión: 0.9336288088642659\n",
      "Mejor criterio: gini\n",
      "Mejor profundidad máxima: 10\n",
      "              precision    recall  f1-score   support\n",
      "\n",
      "       RURAL       0.77      0.83      0.80      8576\n",
      "      URBANO       0.97      0.95      0.96     45574\n",
      "\n",
      "    accuracy                           0.93     54150\n",
      "   macro avg       0.87      0.89      0.88     54150\n",
      "weighted avg       0.94      0.93      0.93     54150\n",
      "\n"
     ]
    }
   ],
   "source": [
    "# Se muestra el reporte de clasificación a traves del uso del Arbol de Decisión\n",
    "print(\"Mejor precisión: \" + str(best_precision_tree_p2));\n",
    "print(\"Mejor criterio: \" + str(best_criterio_tree_p2));\n",
    "print(\"Mejor profundidad máxima: \" + str(best_depth_tree_p2));\n",
    "print(classification_report(y_test_p2, y_pred_tree_p2)) "
   ]
  },
  {
   "cell_type": "markdown",
   "id": "FeHbiVRGXEkI",
   "metadata": {
    "id": "FeHbiVRGXEkI"
   },
   "source": [
    "### KNN"
   ]
  },
  {
   "cell_type": "code",
   "execution_count": 28,
   "id": "TtGD93dyXGKw",
   "metadata": {
    "id": "TtGD93dyXGKw",
    "outputId": "a9433364-54cc-4703-d4c0-72e44470ef5c"
   },
   "outputs": [
    {
     "name": "stdout",
     "output_type": "stream",
     "text": [
      "Mejor precisión: 0.9346260387811635\n",
      "Mejor algoritmo: ball_tree\n",
      "Mejor número vecinos: 18\n",
      "              precision    recall  f1-score   support\n",
      "\n",
      "       RURAL       0.79      0.81      0.80      8576\n",
      "      URBANO       0.96      0.96      0.96     45574\n",
      "\n",
      "    accuracy                           0.93     54150\n",
      "   macro avg       0.87      0.88      0.88     54150\n",
      "weighted avg       0.94      0.93      0.93     54150\n",
      "\n"
     ]
    }
   ],
   "source": [
    "# Se muestra el reporte de clasificación a traves del uso de KNN\n",
    "\n",
    "print(\"Mejor precisión: \" + str(best_precision_knn_p2));\n",
    "print(\"Mejor algoritmo: \" + str(best_algo_knn_p2));\n",
    "print(\"Mejor número vecinos: \" + str(best_n_knn_p2));\n",
    "print(classification_report(y_test_p2, y_pred_knn_p2))  "
   ]
  },
  {
   "cell_type": "markdown",
   "id": "fd08716f",
   "metadata": {
    "id": "fd08716f"
   },
   "source": [
    "# Análisis de resultados"
   ]
  },
  {
   "cell_type": "markdown",
   "id": "OOw63pynSfrW",
   "metadata": {
    "id": "OOw63pynSfrW"
   },
   "source": [
    "## Análisis problema 1 ##\n",
    "El resultado obtenido no se considera bueno, pues no resuelve el problema de llenar los atributos indeterminados, ya que se consideró que alrededor de un 50% de datos fallidos en un conjunto de datos oficial del gobierno no es aceptable. Este resultado tiene sentido ya que, como se mencionó anteriormente, la mayoría de las manzanas posee una categoría indeterminada, lo que, junto con la baja correlación entre los atributos utilizados para predecir y la clase, se produjo un alto sesgo en los resultados.\n",
    "\n",
    "Se observa que el rendimiento del árbol de decisión es superior al modelo KNN en este problema, esto se debe a que se encuentra más optimizado el modelo de árbol para problemas multivariable y debido a la naturaleza misma de los datos del problema, la clusterización de los datos no se encuentra tan definida, además de que KNN por lo general implica un costo computacional más elevado.\n",
    "\n",
    "En base a las categorías que mejor se predicen (Aldea, Comunidad Indígena y Parcela-Hijuela), se entiende que este comportamiento se debe a la cantidad de datos que contenían esta clasificación, además que comparten el hecho común de contar con agua de origen rural en gran medida, lo cual es un hecho significativo para la predicción. Por otro lado, entre las categorías que peor se predicen (Asentamiento Minero, Asentamiento Pesquero, Campamento y Otros) tienen en común que son muy pocas manzanas las que tenían esas categorías en comparación con el resto, lo que produjo precisiones muy bajas para estas 4 categorías, llegando incluso a tener 0% de precisión en ciertos casos. "
   ]
  },
  {
   "cell_type": "markdown",
   "id": "d8009e48-119d-4725-b744-86f105ed212b",
   "metadata": {
    "id": "d8009e48-119d-4725-b744-86f105ed212b",
    "tags": []
   },
   "source": [
    "\n",
    "## Análisis problema 2 ##\n",
    "La variación entre el peor y mejor modelo es pequeña, pero ya que los modelos obtenían una precisión promedio tan alta se considera que la metodología efectivamente ayudó a elegir un mejor modelo.\n",
    "\n",
    "El resultado obtenido se considera bueno ya que su precisión es superior a 90%, esto indica que si se pueden utilizar los atributos del censo para predecir la clase NOM_AREA debido a que, según la métrica elegida, 9 de cada 10 predicciones serán correctas y es posible mitigar el 10% de pérdida con otras técnicas a futuro.\n",
    "\n",
    "En este problema se denota que el entrenamiento de KNN es más costoso ya que es un problema multivariable con una salida binaria, es difícil clasificar de forma binaria con KNN ya que el clustering se vuelve muy complejo. Al igual que en el primer problema, el árbol de decisión posee un rendimiento mayor que KNN.\n"
   ]
  },
  {
   "cell_type": "markdown",
   "id": "EJayUfbBIMm1",
   "metadata": {
    "id": "EJayUfbBIMm1"
   },
   "source": [
    "# Conclusión "
   ]
  },
  {
   "cell_type": "markdown",
   "id": "e8ad3745-c5de-44d8-a394-be409d24e696",
   "metadata": {
    "id": "e8ad3745-c5de-44d8-a394-be409d24e696"
   },
   "source": [
    "Para concluir este experimento, se denota que la intención de este era completar los datos de la plataforma CENSO para mejorar la calidad de los estudios basados en este, por lo tanto se realizó una propuesta experimental que contemplaba el uso de los atributos disponibles para la predicción de la categoría de la manzana, junto con la predicción de su área urbana o rural, siendo estos problemas de clasificación como fue dicho anteriormente. Luego de realizar el experimento, en el primer problema se obtuvo un resultado deplorable de 50% desde la métrica de precisión, por lo tanto, para este problema se concluye que los atributos no presentaban una relación fuerte con la clase, algo que se podía percibir más no asegurar en la matriz de correlación. Sin embargo, en el segundo problema se obtuvo un resultado satisfactorio, con un 90% de precisión, lo que permite utilizar modelo de tal problema para predecir esa categoría en base a variables como el origen del agua, la calidad de materialidad y el tipo de vivienda.\n",
    "\n",
    "En base a lo anterior, se concluye que el estudio fue significativo para modelar el problema y plantearlo para futuros estudios con otras variables que permitan refinar el resultado. Por otra parte, se obtuvo un significativo resultado en el problema de clasificación de categoria urbana o rural, ya que este contaba con datos consistentes y en la totalidad del dataframe, siendo exitoso en resolver el problema y útil para su utilización en futuros estudios."
   ]
  },
  {
   "cell_type": "markdown",
   "id": "km834lqRl-V-",
   "metadata": {
    "id": "km834lqRl-V-"
   },
   "source": [
    "# Recomendaciones"
   ]
  },
  {
   "cell_type": "markdown",
   "id": "8bT4TuI9mA33",
   "metadata": {
    "id": "8bT4TuI9mA33"
   },
   "source": [
    "El proyecto actualmente se encuentra a disposición de aceptar cambios y propuestas de mejora, con tal de mejorar el análisis de la población por medio de técnicas de minería de datos.\n",
    "\n",
    "En cuanto a aplicaciones a futuro que puedan surgir con los resultados y observaciones obtenidas, se encuentra el planteamiento de utilizar el atributo calculado de Índice de Materialidad como punto entre los manzanares con más urgencia de mejora y renovación de construcción.\n",
    "\n",
    "También se identifica la posibilidad de explorar este tipo de modelos para otro tipo de problemas asociados al gobierno, por ejemplo, ayudar a la encuesta CADEM a realizar predicciones de votos a lo largo del país."
   ]
  },
  {
   "cell_type": "markdown",
   "id": "bf4a4c0a-0d7e-4ef2-9a1f-10094cfd6da3",
   "metadata": {
    "id": "bf4a4c0a-0d7e-4ef2-9a1f-10094cfd6da3"
   },
   "source": [
    "# Lecciones aprendidas\n"
   ]
  },
  {
   "cell_type": "markdown",
   "id": "8404213a-7a75-4f9b-a22c-0743f556f31c",
   "metadata": {
    "id": "8404213a-7a75-4f9b-a22c-0743f556f31c"
   },
   "source": [
    "1. En avances anteriores se intentó predecir algún tipo de indicador de pobreza, pero no fue posible ya que la pobreza no posee una correlación directa con la calidad de la vivienda, por lo que se requerirían otras variables como la situación económica de la población. Debido a que se tuvo que descartar esa idea, también se descartaron los gráficos de torta de inmigración y pueblos indígenas del país realizados en avances anteriores.\n",
    "2. En los primeros avances se visualizaron datos que no poseían una relación directa con los problemas, como el \"summary\" de todos los atributos, por lo que fueron descartados.\n",
    "3. Para resolver los problemas propuestos se tuvieron que desechar muchos atributos que se referían al tipo de materialidad de las viviendas de una manzana, ya que en el dataset original estos atributos derivan de forma directa en la calidad de materialidad, por lo que resultan ser redundantes para la implementación.\n",
    "4. Antes de haber empezado a avanzar con el proyecto, se pudo haber elegido un dataset que entregue datos de personas individuales en vez de las manzanas, ya que entregan información con mayor variedad, como su situación económica, grado de escolaridad, entre otros factores. Sin embargo, el problema que posee el dataset de personas individuales es su gran tamaño, teniendo en cuenta que cada fila corresponde a un habitante, por lo que en ese caso se podría restringir a una región en específico.\n",
    "5. Se pudo haber agregado atributos provenientes de otros datasets para poder resolver el primer problema con una mayor precisión, pero hasta el momento no se halló más información al respecto.\n",
    "6. Debido a que las clases a evaluar estaban desbalanceadas, se pudo haber aplicado alguna técnica correctiva como oversampling o undersampling.\n",
    "7. No fue normalizada la cantidad de clase, lo que llevó a un desbalance del resultado del modelo."
   ]
  },
  {
   "cell_type": "markdown",
   "id": "MCHnkf47RZXQ",
   "metadata": {
    "id": "MCHnkf47RZXQ"
   },
   "source": [
    "# Referencias\n"
   ]
  },
  {
   "cell_type": "markdown",
   "id": "qTGz7axmpA0c",
   "metadata": {
    "id": "qTGz7axmpA0c"
   },
   "source": [
    "[1] https://redatam-ine.ine.cl/manuales/Manual-Usuario.pdf\n",
    "\n",
    "[2] https://pandas.pydata.org/\n",
    "\n",
    "[3] https://pandas.pydata.org/docs/reference/api/pandas.DataFrame.plot.html\n",
    "\n",
    "[4] https://pandas.pydata.org/docs/reference/api/pandas.DataFrame.describe.html\n",
    "\n",
    "[5] https://pandas.pydata.org/docs/reference/api/pandas.DataFrame.hist.html\n",
    "\n",
    "[6] https://pandas.pydata.org/docs/reference/api/pandas.DataFrame.iloc.html\n",
    "\n",
    "[7] https://pandas.pydata.org/docs/reference/api/pandas.DataFrame.plot.barh.html\n",
    "\n",
    "[8] https://towardsdatascience.com/reshaping-a-pandas-dataframe-long-to-wide-and-vice-versa-517c7f0995ad\n",
    "\n",
    "[9] https://sparkbyexamples.com/pandas/pandas-set-index-to-column-in-dataframe/\n",
    "\n",
    "[10] https://www.w3schools.com/python/matplotlib_pie_charts.asp\n",
    "\n",
    "[11] https://www.w3schools.com/python/pandas/pandas_plotting.asp\n",
    "\n",
    "[12] https://www.geeksforgeeks.org/change-figure-size-in-pandas-python/\n",
    "\n",
    "[13] https://www.geeksforgeeks.org/adding-new-column-to-existing-dataframe-in-pandas/\n",
    "\n",
    "[14] https://stackoverflow.com/questions/55240330/how-to-read-csv-file-from-github-using-pandas\n",
    "\n",
    "[15] https://stackoverflow.com/questions/16459217/in-pandas-how-can-i-get-a-dataframe-as-the-output-while-i-sum-the-dataframe\n",
    "\n",
    "[16] https://stackoverflow.com/questions/41286569/get-total-of-pandas-column\n",
    "\n",
    "[17] https://stackoverflow.com/questions/61690632/why-pandas-dataframe-sumaxis-0-returns-sum-of-values-in-each-column-where-axis\n",
    "\n",
    "[18] https://stackoverflow.com/questions/25748683/pandas-sum-dataframe-rows-for-given-columns\n",
    "\n",
    "[19] https://stackoverflow.com/questions/56010449/selecting-columns-axes-for-correlation-from-pandas-df\n",
    "\n",
    "[20] https://stackoverflow.com/questions/34682828/extracting-specific-selected-columns-to-new-dataframe-as-a-copy\n",
    "\n",
    "[21] https://stackoverflow.com/questions/11285613/selecting-multiple-columns-in-a-pandas-dataframe\n",
    "\n",
    "[22] https://stackoverflow.com/questions/26414913/normalize-columns-of-a-dataframe\n",
    "\n",
    "[23] https://stackoverflow.com/questions/25050141/how-to-filter-in-nan-pandas\n",
    "\n",
    "[24] https://stackoverflow.com/questions/14942681/change-size-of-axes-title-and-labels-in-ggplot2"
   ]
  },
  {
   "cell_type": "markdown",
   "id": "2d7d34cd",
   "metadata": {},
   "source": [
    "# Presentación"
   ]
  },
  {
   "cell_type": "markdown",
   "id": "b7c39778",
   "metadata": {},
   "source": [
    "https://www.youtube.com/watch?v=JpJ6P6faU_8"
   ]
  },
  {
   "cell_type": "markdown",
   "id": "53b04033",
   "metadata": {},
   "source": [
    "# Repositorio"
   ]
  },
  {
   "cell_type": "markdown",
   "id": "2d016227",
   "metadata": {},
   "source": [
    "https://gitlab.com/k.atighimoghadda01/hito_2_censo2017"
   ]
  },
  {
   "cell_type": "markdown",
   "id": "OtiySiJrNnDt",
   "metadata": {
    "id": "OtiySiJrNnDt"
   },
   "source": [
    "## Declaración de autoría ##\n",
    "\n",
    "Arturo Avendaño - Realización de PDF, conclusión, referencias, histograma de categoría, corrección de errores, introducción y preguntas de investigación, corrección de ortografía, realización de presentación, conclusión y avance en documento IEEE (resultados, formato)."
   ]
  },
  {
   "cell_type": "markdown",
   "id": "VJUZb98XOvGN",
   "metadata": {
    "id": "VJUZb98XOvGN"
   },
   "source": [
    "Alonso Rojas - Correccion metodologia experimental, implementacion metodologia experimental, analisis resultados, colaboracion en PPT presentacion e informe en LATEX, análisis exploratorio correctivo, normalización de datos, histogramas distribución fuente de agua, tipo de vivienda, ocupación de vivienda, redacción análisis gráficos, redacción análisis exploratorio, KNN."
   ]
  },
  {
   "cell_type": "markdown",
   "id": "AGeU6a6KTNL-",
   "metadata": {
    "id": "AGeU6a6KTNL-"
   },
   "source": [
    "Kianush Atighi-Moghaddam - Índice de materialidad por manzana, propuesta experimental, árbol de decisión, resultados preliminares, gráfico de boxplot sobre índice de materialidad, descripción de columnas, lecciones aprendidas, recomendaciones."
   ]
  },
  {
   "cell_type": "markdown",
   "id": "eNu4XmQa6YOX",
   "metadata": {
    "id": "eNu4XmQa6YOX"
   },
   "source": [
    "Diego Vera - Levantamiento del dataset en Git, Inicializado del ipynb, Introducción, Metodologias, Gráfico de torta, configuración de los gráficos con figsize y fontsize, comentado del código, Inicialización y Trabajo del Informe con formato IEEE en Latex."
   ]
  }
 ],
 "metadata": {
  "colab": {
   "collapsed_sections": [
    "i3pZnD1HuZPl",
    "cVufZ22st_Ru",
    "342iFhWXtv9T"
   ],
   "provenance": []
  },
  "kernelspec": {
   "display_name": "Python 3 (ipykernel)",
   "language": "python",
   "name": "python3"
  },
  "language_info": {
   "codemirror_mode": {
    "name": "ipython",
    "version": 3
   },
   "file_extension": ".py",
   "mimetype": "text/x-python",
   "name": "python",
   "nbconvert_exporter": "python",
   "pygments_lexer": "ipython3",
   "version": "3.10.5"
  }
 },
 "nbformat": 4,
 "nbformat_minor": 5
}
